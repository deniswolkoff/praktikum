{
 "cells": [
  {
   "cell_type": "markdown",
   "metadata": {},
   "source": [
    "# Описание проекта"
   ]
  },
  {
   "cell_type": "markdown",
   "metadata": {},
   "source": [
    "От нас требуется построить модель машинного обучения, которая поможет определить регион, где бурить новую скважину с максимальной прибылью. Нам предоставлены пробы нефти в трёх регионах: в каждом 100 000 месторождений, где измерили качество нефти и объём её запасов. Также требуется проанализировать возможную прибыль и риски техникой *Bootstrap.*"
   ]
  },
  {
   "cell_type": "markdown",
   "metadata": {},
   "source": [
    "## Описание данных\n",
    "\n",
    "Данные геологоразведки трёх регионов находятся в отдельных файлах, где каждая строка соответствует скважине со следующими характеристиками:\n",
    "\n",
    "- id — уникальный идентификатор скважины;\n",
    "- f0, f1, f2 — три признака точек;\n",
    "- product — объём запасов в скважине (тыс. баррелей)."
   ]
  },
  {
   "cell_type": "markdown",
   "metadata": {},
   "source": [
    "### Дополнительная информация:\n",
    "- Для обучения модели подходит только линейная регрессия.\n",
    "- При разведке региона исследуют 500 точек, из которых выбирают 200 лучших для расчёта прибыли.\n",
    "- Бюджет на разработку скважин в регионе — 10 млрд рублей.\n",
    "- Один баррель сырья приносит 450 рублей дохода.\n",
    "- После оценки рисков нужно оставить лишь те регионы, в которых вероятность убытков меньше 2.5%. Среди них выбрать регион с наибольшей средней прибылью."
   ]
  },
  {
   "cell_type": "markdown",
   "metadata": {},
   "source": [
    "## Для выполнения поставленной задачи выполним следующие шаги:\n",
    "\n",
    "1. Откроем файл с данными, изучим его, проведем предобработку и подготовку\n",
    "2. Обучим и проверим модель для каждого региона:<br>\n",
    "    2.1. Разобъем данные на обучающую и валидационную выборки в соотношении 75:25.<br>\n",
    "    2.2. Обучим модель и сделаем предсказания на валидационной выборке.<br>\n",
    "    2.3. Сохраним предсказания и правильные ответы на валидационной выборке.<br>\n",
    "    2.4. Выведем на экран средний запас предсказанного сырья и RMSE модели.<br>\n",
    "    2.5. Проанализируем результаты.\n",
    "3. Подготовимся к расчёту прибыли:<br>\n",
    "    3.1. Сохраним в отдельных переменных все ключевые значения для расчётов.<br>\n",
    "    3.2. Рассчитаем достаточный объём сырья для безубыточной разработки новой скважины. Сравним полученный объём сырья со средним запасом в каждом регионе.<br>\n",
    "    3.3. Напишем выводы по этапу подготовки расчёта прибыли.<br>\n",
    "4. Напишем функцию для расчёта прибыли по выбранным скважинам и предсказаниям модели:<br>\n",
    "    4.1. Выберим скважины с максимальными значениями предсказаний.<br>\n",
    "    4.2. Просуммируем целевое значение объёма сырья, соответствующее этим предсказаниям.<br>\n",
    "    4.3. Рассчитаем прибыль для полученного объёма сырья.<br>\n",
    "5. Посчитаем риски и прибыль для каждого региона:<br>\n",
    "    5.1. Применим технику Bootstrap с 1000 выборок, чтобы найти распределение прибыли.<br>\n",
    "    5.2. Найдем среднюю прибыль, 95%-й доверительный интервал и риск убытков.<br>\n",
    "    5.3. Напишем выводы и предложим регион для разработки скважин.\n",
    "6. Напишем общий вывод."
   ]
  },
  {
   "cell_type": "markdown",
   "metadata": {},
   "source": [
    "# 1. Откроем файл с данными, изучим его, проведем предобработку и подготовку"
   ]
  },
  {
   "cell_type": "markdown",
   "metadata": {},
   "source": [
    "Подключим необходимые библиотеки:"
   ]
  },
  {
   "cell_type": "code",
   "execution_count": 1,
   "metadata": {},
   "outputs": [],
   "source": [
    "import pandas as pd"
   ]
  },
  {
   "cell_type": "code",
   "execution_count": 2,
   "metadata": {},
   "outputs": [],
   "source": [
    "import numpy as np"
   ]
  },
  {
   "cell_type": "code",
   "execution_count": 3,
   "metadata": {},
   "outputs": [],
   "source": [
    "import matplotlib.pyplot as plt"
   ]
  },
  {
   "cell_type": "code",
   "execution_count": 4,
   "metadata": {},
   "outputs": [],
   "source": [
    "from sklearn.preprocessing import StandardScaler"
   ]
  },
  {
   "cell_type": "code",
   "execution_count": 5,
   "metadata": {},
   "outputs": [],
   "source": [
    "from sklearn.linear_model import LinearRegression"
   ]
  },
  {
   "cell_type": "code",
   "execution_count": 6,
   "metadata": {},
   "outputs": [],
   "source": [
    "from sklearn.model_selection import train_test_split"
   ]
  },
  {
   "cell_type": "code",
   "execution_count": 7,
   "metadata": {},
   "outputs": [],
   "source": [
    "from sklearn.metrics import mean_squared_error"
   ]
  },
  {
   "cell_type": "markdown",
   "metadata": {},
   "source": [
    "Данные по каждому региону загрузим в отдельную таблицу."
   ]
  },
  {
   "cell_type": "code",
   "execution_count": 8,
   "metadata": {},
   "outputs": [],
   "source": [
    "try:\n",
    "    region1 = pd.read_csv('/Users/elenadolgova/Documents/Yandex praktikum/project8/geo_data_0.csv', \n",
    "                          index_col = 'id')\n",
    "except:\n",
    "    region1 = pd.read_csv('https://code.s3.yandex.net/datasets/geo_data_0.csv', \n",
    "                          index_col = 'id')"
   ]
  },
  {
   "cell_type": "code",
   "execution_count": 9,
   "metadata": {},
   "outputs": [],
   "source": [
    "try:\n",
    "    region2 = pd.read_csv('/Users/elenadolgova/Documents/Yandex praktikum/project8/geo_data_1.csv', \n",
    "                          index_col = 'id')\n",
    "except:\n",
    "    region2 = pd.read_csv('https://code.s3.yandex.net/datasets/geo_data_1.csv', \n",
    "                          index_col = 'id')"
   ]
  },
  {
   "cell_type": "code",
   "execution_count": 10,
   "metadata": {},
   "outputs": [],
   "source": [
    "try:\n",
    "    region3 = pd.read_csv('/Users/elenadolgova/Documents/Yandex praktikum/project8/geo_data_2.csv', \n",
    "                          index_col = 'id')\n",
    "except:\n",
    "    region3 = pd.read_csv('https://code.s3.yandex.net/datasets/geo_data_2.csv', \n",
    "                          index_col = 'id')"
   ]
  },
  {
   "cell_type": "markdown",
   "metadata": {},
   "source": [
    "Создадим список из названий трех таблиц, чтобы было удобно на него ссылаться в циклах."
   ]
  },
  {
   "cell_type": "code",
   "execution_count": 11,
   "metadata": {},
   "outputs": [],
   "source": [
    "regions = ['region1', 'region2', 'region3']"
   ]
  },
  {
   "cell_type": "markdown",
   "metadata": {},
   "source": [
    "Взглянем на первые 5 строк первой таблицы, чтобы посмотреть какие именно данные в ней представлены."
   ]
  },
  {
   "cell_type": "code",
   "execution_count": 12,
   "metadata": {},
   "outputs": [
    {
     "data": {
      "text/html": [
       "<div>\n",
       "<style scoped>\n",
       "    .dataframe tbody tr th:only-of-type {\n",
       "        vertical-align: middle;\n",
       "    }\n",
       "\n",
       "    .dataframe tbody tr th {\n",
       "        vertical-align: top;\n",
       "    }\n",
       "\n",
       "    .dataframe thead th {\n",
       "        text-align: right;\n",
       "    }\n",
       "</style>\n",
       "<table border=\"1\" class=\"dataframe\">\n",
       "  <thead>\n",
       "    <tr style=\"text-align: right;\">\n",
       "      <th></th>\n",
       "      <th>f0</th>\n",
       "      <th>f1</th>\n",
       "      <th>f2</th>\n",
       "      <th>product</th>\n",
       "    </tr>\n",
       "    <tr>\n",
       "      <th>id</th>\n",
       "      <th></th>\n",
       "      <th></th>\n",
       "      <th></th>\n",
       "      <th></th>\n",
       "    </tr>\n",
       "  </thead>\n",
       "  <tbody>\n",
       "    <tr>\n",
       "      <th>txEyH</th>\n",
       "      <td>0.705745</td>\n",
       "      <td>-0.497823</td>\n",
       "      <td>1.221170</td>\n",
       "      <td>105.280062</td>\n",
       "    </tr>\n",
       "    <tr>\n",
       "      <th>2acmU</th>\n",
       "      <td>1.334711</td>\n",
       "      <td>-0.340164</td>\n",
       "      <td>4.365080</td>\n",
       "      <td>73.037750</td>\n",
       "    </tr>\n",
       "    <tr>\n",
       "      <th>409Wp</th>\n",
       "      <td>1.022732</td>\n",
       "      <td>0.151990</td>\n",
       "      <td>1.419926</td>\n",
       "      <td>85.265647</td>\n",
       "    </tr>\n",
       "    <tr>\n",
       "      <th>iJLyR</th>\n",
       "      <td>-0.032172</td>\n",
       "      <td>0.139033</td>\n",
       "      <td>2.978566</td>\n",
       "      <td>168.620776</td>\n",
       "    </tr>\n",
       "    <tr>\n",
       "      <th>Xdl7t</th>\n",
       "      <td>1.988431</td>\n",
       "      <td>0.155413</td>\n",
       "      <td>4.751769</td>\n",
       "      <td>154.036647</td>\n",
       "    </tr>\n",
       "  </tbody>\n",
       "</table>\n",
       "</div>"
      ],
      "text/plain": [
       "             f0        f1        f2     product\n",
       "id                                             \n",
       "txEyH  0.705745 -0.497823  1.221170  105.280062\n",
       "2acmU  1.334711 -0.340164  4.365080   73.037750\n",
       "409Wp  1.022732  0.151990  1.419926   85.265647\n",
       "iJLyR -0.032172  0.139033  2.978566  168.620776\n",
       "Xdl7t  1.988431  0.155413  4.751769  154.036647"
      ]
     },
     "execution_count": 12,
     "metadata": {},
     "output_type": "execute_result"
    }
   ],
   "source": [
    "region1.head()"
   ]
  },
  {
   "cell_type": "markdown",
   "metadata": {},
   "source": [
    "## 1.1 Предобработка"
   ]
  },
  {
   "cell_type": "markdown",
   "metadata": {},
   "source": [
    "Выведем общую информацию о таблицах и посмотрим какие типы данных размещены в них:"
   ]
  },
  {
   "cell_type": "code",
   "execution_count": 13,
   "metadata": {},
   "outputs": [
    {
     "name": "stdout",
     "output_type": "stream",
     "text": [
      "region1\n",
      "<class 'pandas.core.frame.DataFrame'>\n",
      "Index: 100000 entries, txEyH to 1CWhH\n",
      "Data columns (total 4 columns):\n",
      " #   Column   Non-Null Count   Dtype  \n",
      "---  ------   --------------   -----  \n",
      " 0   f0       100000 non-null  float64\n",
      " 1   f1       100000 non-null  float64\n",
      " 2   f2       100000 non-null  float64\n",
      " 3   product  100000 non-null  float64\n",
      "dtypes: float64(4)\n",
      "memory usage: 3.8+ MB\n",
      "None\n",
      "\n",
      "region2\n",
      "<class 'pandas.core.frame.DataFrame'>\n",
      "Index: 100000 entries, kBEdx to relB0\n",
      "Data columns (total 4 columns):\n",
      " #   Column   Non-Null Count   Dtype  \n",
      "---  ------   --------------   -----  \n",
      " 0   f0       100000 non-null  float64\n",
      " 1   f1       100000 non-null  float64\n",
      " 2   f2       100000 non-null  float64\n",
      " 3   product  100000 non-null  float64\n",
      "dtypes: float64(4)\n",
      "memory usage: 3.8+ MB\n",
      "None\n",
      "\n",
      "region3\n",
      "<class 'pandas.core.frame.DataFrame'>\n",
      "Index: 100000 entries, fwXo0 to V9kWn\n",
      "Data columns (total 4 columns):\n",
      " #   Column   Non-Null Count   Dtype  \n",
      "---  ------   --------------   -----  \n",
      " 0   f0       100000 non-null  float64\n",
      " 1   f1       100000 non-null  float64\n",
      " 2   f2       100000 non-null  float64\n",
      " 3   product  100000 non-null  float64\n",
      "dtypes: float64(4)\n",
      "memory usage: 3.8+ MB\n",
      "None\n",
      "\n"
     ]
    }
   ],
   "source": [
    "for reg in regions:\n",
    "    print(reg)\n",
    "    print(eval(reg).info())\n",
    "    print()"
   ]
  },
  {
   "cell_type": "markdown",
   "metadata": {},
   "source": [
    "Пропущенных значений не содержится, а типы данных соответствуют их описанию. Проверим наличие дубликатов в каждой таблице."
   ]
  },
  {
   "cell_type": "code",
   "execution_count": 14,
   "metadata": {
    "scrolled": true
   },
   "outputs": [
    {
     "name": "stdout",
     "output_type": "stream",
     "text": [
      "0\n",
      "0\n",
      "0\n"
     ]
    }
   ],
   "source": [
    "for reg in regions:\n",
    "    print(eval(reg).duplicated().sum())"
   ]
  },
  {
   "cell_type": "markdown",
   "metadata": {},
   "source": [
    "### Вывод:\n",
    "\n",
    "Пропущенных значений и дубликатов в таблицах не содержится, а типы данных соответствуют их описанию."
   ]
  },
  {
   "cell_type": "markdown",
   "metadata": {},
   "source": [
    "## 1.2 Масштабирование признаков"
   ]
  },
  {
   "cell_type": "markdown",
   "metadata": {},
   "source": [
    "Выполним масштабирование количественных признаков методом стандартизации, для этого сначала соберем их в отдельный список (модель линейной регресии имеет параметр `normalize`, который осуществит это самостоятельно, но в целях обучения мы проделаем это в ручном режиме). Колонка `product` масштабироваться не будет, так как это целевой признак."
   ]
  },
  {
   "cell_type": "code",
   "execution_count": 15,
   "metadata": {},
   "outputs": [],
   "source": [
    "features = ['f0', 'f1', 'f2']"
   ]
  },
  {
   "cell_type": "code",
   "execution_count": 16,
   "metadata": {},
   "outputs": [],
   "source": [
    "scaler = StandardScaler()"
   ]
  },
  {
   "cell_type": "markdown",
   "metadata": {},
   "source": [
    "Выполним масштабирование для каждого региона (таблицы) и проверим успешное выполнение процесса - среднее по количественным показателям должно быть равно нулю."
   ]
  },
  {
   "cell_type": "code",
   "execution_count": 17,
   "metadata": {},
   "outputs": [
    {
     "name": "stdout",
     "output_type": "stream",
     "text": [
      "region1\n",
      "f0          0.0\n",
      "f1         -0.0\n",
      "f2          0.0\n",
      "product    92.5\n",
      "dtype: float64\n",
      "\n",
      "region2\n",
      "f0         -0.0\n",
      "f1          0.0\n",
      "f2          0.0\n",
      "product    68.8\n",
      "dtype: float64\n",
      "\n",
      "region3\n",
      "f0          0.0\n",
      "f1         -0.0\n",
      "f2         -0.0\n",
      "product    95.0\n",
      "dtype: float64\n",
      "\n"
     ]
    }
   ],
   "source": [
    "for item in regions:\n",
    "    reg = eval(item)\n",
    "    scaler.fit(reg[features])\n",
    "    reg[features] = scaler.transform(reg[features])\n",
    "    print(item)\n",
    "    print(round(reg.mean(),1))\n",
    "    print()"
   ]
  },
  {
   "cell_type": "markdown",
   "metadata": {},
   "source": [
    "### Вывод:\n",
    "\n",
    "Среднее по количественным признакам равно нулю - масштабирование выполнено."
   ]
  },
  {
   "cell_type": "markdown",
   "metadata": {},
   "source": [
    "# 2. Обучение и проверка модели"
   ]
  },
  {
   "cell_type": "markdown",
   "metadata": {},
   "source": [
    "Обучим и проверим модель для каждого региона.<br>\n",
    "Для обучения модели подходит только линейная регрессия (остальные — недостаточно предсказуемые).\n",
    "\n",
    "Для каждого региона мы будем осуществлять следующую последовательность действий:\n",
    "\n",
    "- разобъем данные на обучающую и валидационную выборки в соотношении 75:25\n",
    "- обучим модель и сделаем предсказания на валидационной выборке\n",
    "- сохраним предсказания и правильные ответы на валидационной выборке в списках `total_pred` и `total_target` (это мы проделаем для всех регионов подряд, а затем уже из этих списков выделим данные отдельно для региона)\n",
    "- посчитаем и выведем на экране средний запас предсказанного сырья и RMSE модели"
   ]
  },
  {
   "cell_type": "markdown",
   "metadata": {},
   "source": [
    "Выделим целевой признак в отдельный список."
   ]
  },
  {
   "cell_type": "code",
   "execution_count": 18,
   "metadata": {},
   "outputs": [],
   "source": [
    "target = ['product']"
   ]
  },
  {
   "cell_type": "markdown",
   "metadata": {},
   "source": [
    "Объявим пустые списки предсказаний и правильных ответов на валидационной выборке:"
   ]
  },
  {
   "cell_type": "code",
   "execution_count": 19,
   "metadata": {},
   "outputs": [],
   "source": [
    "total_pred = []"
   ]
  },
  {
   "cell_type": "code",
   "execution_count": 20,
   "metadata": {},
   "outputs": [],
   "source": [
    "total_target = []"
   ]
  },
  {
   "cell_type": "markdown",
   "metadata": {},
   "source": [
    "Выполним описанную последовательность действий для каждого региона в цикле."
   ]
  },
  {
   "cell_type": "code",
   "execution_count": 21,
   "metadata": {},
   "outputs": [
    {
     "name": "stdout",
     "output_type": "stream",
     "text": [
      "Регион  |Средний V запасов (тыс. баррелей) |RMSE (тыс. баррелей)\n",
      "region1 |92.55                             |37.65                             \n",
      "region2 |69.28                             |0.90                              \n",
      "region3 |95.10                             |40.13                             \n"
     ]
    }
   ],
   "source": [
    "print('Регион ','|Средний V запасов (тыс. баррелей)', '|RMSE (тыс. баррелей)')\n",
    "for item in regions:\n",
    "    reg = eval(item)\n",
    "    features_train, features_valid, target_train, target_valid = (train_test_split(\n",
    "        reg[features], reg[target], test_size = 0.25, random_state = 123))\n",
    "    model = LinearRegression()\n",
    "    model.fit(features_train, target_train)\n",
    "    predictions = model.predict(features_valid)\n",
    "    mse = mean_squared_error(target_valid, predictions)\n",
    "    rmse = mse**0.5\n",
    "    predictions_mean = predictions.mean()\n",
    "    total_pred.append(predictions)\n",
    "    total_target.append(target_valid.values)\n",
    "    print(item, \"|{:<33.2f}\".format(predictions_mean), \"|{:<34.2f}\".format(rmse))"
   ]
  },
  {
   "cell_type": "markdown",
   "metadata": {},
   "source": [
    "### Вывод:\n",
    "\n",
    "Наилучшим образом модель линейной регрессии настроилась по региону 2, по остальным двум регионам ошибка значительно больше. Для каждого региона мы будем использовать соответствующую ему модель."
   ]
  },
  {
   "cell_type": "markdown",
   "metadata": {},
   "source": [
    "# 3. Подготовка к расчёту прибыли"
   ]
  },
  {
   "cell_type": "markdown",
   "metadata": {},
   "source": [
    "## 3.1 Сохраним все ключевые значения для расчётов в отдельных переменных\n",
    "\n",
    "Нам понадобятся:"
   ]
  },
  {
   "cell_type": "markdown",
   "metadata": {},
   "source": [
    "Три вектора предсказания (по вектору на регион).<br>\n",
    "\n",
    "Выделим из общего для всех регионов списка предсказаний `total_pred` соответствующие массивы для региона и приведем их данные к простому списку значений, понизив их изначальный уровень."
   ]
  },
  {
   "cell_type": "code",
   "execution_count": 22,
   "metadata": {},
   "outputs": [],
   "source": [
    "region1_pred = pd.Series(np.reshape(total_pred[0],-1))"
   ]
  },
  {
   "cell_type": "code",
   "execution_count": 23,
   "metadata": {},
   "outputs": [],
   "source": [
    "region2_pred = pd.Series(np.reshape(total_pred[1], -1))"
   ]
  },
  {
   "cell_type": "code",
   "execution_count": 24,
   "metadata": {},
   "outputs": [],
   "source": [
    "region3_pred = pd.Series(np.reshape(total_pred[2], -1))"
   ]
  },
  {
   "cell_type": "markdown",
   "metadata": {},
   "source": [
    "Три вектора правильных ответов на валидационной выборке. Поступим аналогично векторам предсказаний."
   ]
  },
  {
   "cell_type": "code",
   "execution_count": 25,
   "metadata": {},
   "outputs": [],
   "source": [
    "region1_target = pd.Series(np.reshape(total_target[0], -1))"
   ]
  },
  {
   "cell_type": "code",
   "execution_count": 26,
   "metadata": {},
   "outputs": [],
   "source": [
    "region2_target = pd.Series(np.reshape(total_target[1], -1))"
   ]
  },
  {
   "cell_type": "code",
   "execution_count": 27,
   "metadata": {},
   "outputs": [],
   "source": [
    "region3_target = pd.Series(np.reshape(total_target[2], -1))"
   ]
  },
  {
   "cell_type": "markdown",
   "metadata": {},
   "source": [
    "Бюджет на разработку скважин в регионе — 10 млрд рублей:"
   ]
  },
  {
   "cell_type": "code",
   "execution_count": 28,
   "metadata": {},
   "outputs": [],
   "source": [
    "budget = 10*10**9"
   ]
  },
  {
   "cell_type": "markdown",
   "metadata": {},
   "source": [
    "Количество лучших скважин - при разведке региона из 500 скважин выбирают 200 лучших для расчёта прибыли:"
   ]
  },
  {
   "cell_type": "code",
   "execution_count": 29,
   "metadata": {},
   "outputs": [],
   "source": [
    "n = 200"
   ]
  },
  {
   "cell_type": "markdown",
   "metadata": {},
   "source": [
    "Стоимость одного добытого барреля сырья на рынке - один баррель сырья приносит 450 рублей дохода:"
   ]
  },
  {
   "cell_type": "code",
   "execution_count": 30,
   "metadata": {},
   "outputs": [],
   "source": [
    "barrel_price_rub = 450"
   ]
  },
  {
   "cell_type": "markdown",
   "metadata": {},
   "source": [
    "Создадим списки названий предсказаний и правильных ответов для каждого из трех регионов."
   ]
  },
  {
   "cell_type": "code",
   "execution_count": 31,
   "metadata": {},
   "outputs": [],
   "source": [
    "regions_pred = ['region1_pred', 'region2_pred', 'region3_pred']"
   ]
  },
  {
   "cell_type": "code",
   "execution_count": 32,
   "metadata": {},
   "outputs": [],
   "source": [
    "regions_target = ['region1_target', 'region2_target', 'region3_target']"
   ]
  },
  {
   "cell_type": "markdown",
   "metadata": {},
   "source": [
    "## 3.2 Рассчитаем достаточный объём сырья для безубыточной разработки новой скважины и сравним полученный объём сырья со средним запасом в каждом регионе."
   ]
  },
  {
   "cell_type": "markdown",
   "metadata": {},
   "source": [
    "Рассчитаем достаточный объём сырья для безубыточной разработки новой скважины. Безубыточность подразумевает равенство доходов и расходов. Значит общий доход по формуле:<br> (V баррелей) * (цена барреля в руб) * (кол-во скважин)<br> должен быть равен бюджету. Следовательно, (V баррелей) равен бюджету, деленному на стоимость барреля в руб."
   ]
  },
  {
   "cell_type": "code",
   "execution_count": 33,
   "metadata": {},
   "outputs": [],
   "source": [
    "V = round(budget/n/barrel_price_rub/1000,2)"
   ]
  },
  {
   "cell_type": "markdown",
   "metadata": {},
   "source": [
    "Средний объём сырья для безубыточной разработки новой скважины составляет: (в тыс. баррелей)"
   ]
  },
  {
   "cell_type": "code",
   "execution_count": 34,
   "metadata": {},
   "outputs": [
    {
     "data": {
      "text/plain": [
       "111.11"
      ]
     },
     "execution_count": 34,
     "metadata": {},
     "output_type": "execute_result"
    }
   ],
   "source": [
    "V"
   ]
  },
  {
   "cell_type": "markdown",
   "metadata": {},
   "source": [
    "Посчитаем среднее значение объема сырья в скважине в каждом регионе:"
   ]
  },
  {
   "cell_type": "code",
   "execution_count": 35,
   "metadata": {},
   "outputs": [
    {
     "name": "stdout",
     "output_type": "stream",
     "text": [
      "Регион  |Средний V запасов (тыс. баррелей)\n",
      "region1 |92.50                            \n",
      "region2 |68.83                            \n",
      "region3 |95.00                            \n"
     ]
    }
   ],
   "source": [
    "print('Регион ','|Средний V запасов (тыс. баррелей)')\n",
    "for item in regions:\n",
    "    reg = eval(item)\n",
    "    print(item, \"|{:<33.2f}\".format(round(reg['product'].mean(),2)))"
   ]
  },
  {
   "cell_type": "markdown",
   "metadata": {},
   "source": [
    "### Выводы:\n",
    "\n",
    "- мы сохранили все ключевые значения для расчётов в отдельных переменных\n",
    "- мы расчитали достаточный объём сырья для безубыточной разработки новой скважины\n",
    "- безубыточный объем превышает средние показатели по скважинам по регионам. Но эти все показатели являются средними - нам необходимо с использованием моделей тщательно подобрать самые производительные скважины для обеспечения прибыли."
   ]
  },
  {
   "cell_type": "markdown",
   "metadata": {},
   "source": [
    "# 4. Расчёт прибыли"
   ]
  },
  {
   "cell_type": "markdown",
   "metadata": {},
   "source": [
    "Напишем функцию для расчёта прибыли по выбранным скважинам и предсказаниям модели. Эта функция будет делать следующее:\n",
    "\n",
    "- принимать на вход:\n",
    "    - значение запасов по скважинам\n",
    "    - предсказания запасов по скважинам\n",
    "    - количество скважин для отбора\n",
    "- выбирать скважины с максимальными значениями предсказаний\n",
    "- суммировать целевое значение объёма сырья, соответствующее этим предсказаниям\n",
    "- рассчитывать прибыль для полученного объёма сырья по формуле (V в тыс. баррелях) * (стоимость барреля в руб) - (бюджет)\n",
    "- переводить расчитанный результат прибыли в млрд руб."
   ]
  },
  {
   "cell_type": "code",
   "execution_count": 36,
   "metadata": {},
   "outputs": [],
   "source": [
    "def income_mlrd(target, prediction, count):\n",
    "    pred_sorted = prediction.sort_values(ascending=False)\n",
    "    selected = target[pred_sorted.index][:count]\n",
    "    return sum(selected)* 450 * 1000 * 10**-9 - 10"
   ]
  },
  {
   "cell_type": "markdown",
   "metadata": {},
   "source": [
    "Проверим работу функции, посчитав максимальную потенциальную прибыль в каждом регионе:"
   ]
  },
  {
   "cell_type": "code",
   "execution_count": 37,
   "metadata": {},
   "outputs": [
    {
     "name": "stdout",
     "output_type": "stream",
     "text": [
      "region1_pred - 3.53 млрд руб.\n",
      "region2_pred - 2.42 млрд руб.\n",
      "region3_pred - 2.37 млрд руб.\n"
     ]
    }
   ],
   "source": [
    "for t, p in zip(regions_target, regions_pred):\n",
    "    print(p, '-',\"{:.2f} млрд руб.\".format(income_mlrd(eval(t), eval(p), 200)))"
   ]
  },
  {
   "cell_type": "markdown",
   "metadata": {},
   "source": [
    "### Вывод:\n",
    "\n",
    "Мы написали функцию для расчета прибыли и проверили ее функциональность."
   ]
  },
  {
   "cell_type": "markdown",
   "metadata": {},
   "source": [
    "# 5. Посчитаем риски и прибыль для каждого региона"
   ]
  },
  {
   "cell_type": "markdown",
   "metadata": {},
   "source": [
    "### 5.1 Применим технику Bootstrap с 1000 выборок и найдем распределение прибыли"
   ]
  },
  {
   "cell_type": "markdown",
   "metadata": {},
   "source": [
    "Создадим случайный элемент, чтобы использовать его в выборках."
   ]
  },
  {
   "cell_type": "code",
   "execution_count": 38,
   "metadata": {},
   "outputs": [],
   "source": [
    "state = np.random.RandomState(123)"
   ]
  },
  {
   "cell_type": "markdown",
   "metadata": {},
   "source": [
    "Создадим пустой список, куда будем складывать значение прибыли по выборкам по всем трем регионам. Затем отдельно разобъем этот список на три региона по индексу, кратному 1000."
   ]
  },
  {
   "cell_type": "code",
   "execution_count": 39,
   "metadata": {},
   "outputs": [],
   "source": [
    "total_income = []"
   ]
  },
  {
   "cell_type": "markdown",
   "metadata": {},
   "source": [
    "Применять технику Bootstrap мы будем следующим образом.\n",
    "\n",
    "Поскольку нам известно, что при разведке региона исследуют 500 точек, из которых выбирают 200 лучших для расчёта прибыли, то для каждого региона мы сделаем 1000 выборок по 500 точек с возвращением. Выбирать будем сначала из таблиц с предсказаниями модели, а затем по соответствующему индексу отберем точки из таблицы с целевыми значениями объёма запасов в скважине.\n",
    "\n",
    "На основании этих двух выборок рассчитаем прибыль при помощи нашей функции `income_mlrd`, которая, в свою очередь, отберет 200 скважин на основе предсказаний и посчитает прибыль для региона.\n",
    "\n",
    "Значение прибыли в каждой выборке мы сложим в наш список `total_income`."
   ]
  },
  {
   "cell_type": "code",
   "execution_count": 40,
   "metadata": {},
   "outputs": [
    {
     "name": "stdout",
     "output_type": "stream",
     "text": [
      "CPU times: user 10.3 s, sys: 20.6 ms, total: 10.3 s\n",
      "Wall time: 10.2 s\n"
     ]
    }
   ],
   "source": [
    "%%time\n",
    "for t, p in zip(regions_target, regions_pred):\n",
    "    reg_t = eval(t)\n",
    "    reg_p = eval(p)\n",
    "    for i in range(1000):\n",
    "        pred_subsample = reg_p.sample(n = 500, replace = True, random_state = state)\n",
    "        target_subsample = reg_t[pred_subsample.index]\n",
    "        total_income.append(income_mlrd(target_subsample, pred_subsample, 200))"
   ]
  },
  {
   "cell_type": "code",
   "execution_count": 41,
   "metadata": {},
   "outputs": [],
   "source": [
    "total_income = pd.Series(total_income)"
   ]
  },
  {
   "cell_type": "markdown",
   "metadata": {},
   "source": [
    "Разобъем список `total_income` на регионы по индексу, кратному 1000, так как мы делали 1000 выборок в каждом регионе."
   ]
  },
  {
   "cell_type": "code",
   "execution_count": 42,
   "metadata": {},
   "outputs": [],
   "source": [
    "region1_income = total_income[:1000]"
   ]
  },
  {
   "cell_type": "code",
   "execution_count": 43,
   "metadata": {},
   "outputs": [],
   "source": [
    "region2_income = total_income[1000:2000]"
   ]
  },
  {
   "cell_type": "code",
   "execution_count": 44,
   "metadata": {},
   "outputs": [],
   "source": [
    "region3_income = total_income[2000:]"
   ]
  },
  {
   "cell_type": "markdown",
   "metadata": {},
   "source": [
    "Для удобства работы с прибылью по регионам отдельно, запишем названия соответствующих таблиц в список."
   ]
  },
  {
   "cell_type": "code",
   "execution_count": 45,
   "metadata": {},
   "outputs": [],
   "source": [
    "regions_income = ['region1_income', 'region2_income', 'region3_income']"
   ]
  },
  {
   "cell_type": "markdown",
   "metadata": {},
   "source": [
    "### 5.2. Найдем среднюю прибыль, 95%-й доверительный интервал и риск убытков"
   ]
  },
  {
   "cell_type": "markdown",
   "metadata": {},
   "source": [
    "Для сравнения результатов по регионам заведем список, куда будем складывать результаты расчетов, чтобы затем сделать выводы на основании этой таблицы."
   ]
  },
  {
   "cell_type": "code",
   "execution_count": 46,
   "metadata": {},
   "outputs": [],
   "source": [
    "results = []"
   ]
  },
  {
   "cell_type": "markdown",
   "metadata": {},
   "source": [
    "На основании данных по прибыли по каждому региону, полученных техникой Bootstrap мы проведем расчет следующих показателей:\n",
    "- средняя прибыль по региону - расчитывается как среднее по 1000 значениям прибыли\n",
    "- нижний предел 95% доверительного интервала для средней прибыли - расчитывается как 2.5% квантиль распределения прибыли (для 95% доверительного интервала для среднего значения необходимо отбросить крайние значения остатка от интервала - (100%-95%)/2 = 2.5%\n",
    "- верхний предел 95% доверительного интервала для средней прибыли - расчитывается как 97.5% квантиль распределения прибыли\n",
    "- вероятность убытков в регионе - расчитывается как доля числа отрицательных значений прибыли в распределении"
   ]
  },
  {
   "cell_type": "markdown",
   "metadata": {},
   "source": [
    "Все показатели соберем в таблицу `results` и построим диаграммы распределения прибыли для каждого региона, чтобы убедиться в том, что показатели посчитаны корректно."
   ]
  },
  {
   "cell_type": "code",
   "execution_count": 47,
   "metadata": {},
   "outputs": [
    {
     "name": "stdout",
     "output_type": "stream",
     "text": [
      "AxesSubplot(0.125,0.125;0.775x0.755)\n"
     ]
    },
    {
     "data": {
      "image/png": "[encoded data removed]",
      "text/plain": [
       "<Figure size 648x180 with 1 Axes>"
      ]
     },
     "metadata": {
      "needs_background": "light"
     },
     "output_type": "display_data"
    },
    {
     "name": "stdout",
     "output_type": "stream",
     "text": [
      "AxesSubplot(0.125,0.125;0.775x0.755)\n"
     ]
    },
    {
     "data": {
      "image/png": "[encoded data removed]",
      "text/plain": [
       "<Figure size 648x180 with 1 Axes>"
      ]
     },
     "metadata": {
      "needs_background": "light"
     },
     "output_type": "display_data"
    },
    {
     "name": "stdout",
     "output_type": "stream",
     "text": [
      "AxesSubplot(0.125,0.125;0.775x0.755)\n"
     ]
    },
    {
     "data": {
      "image/png": "[encoded data removed]",
      "text/plain": [
       "<Figure size 648x180 with 1 Axes>"
      ]
     },
     "metadata": {
      "needs_background": "light"
     },
     "output_type": "display_data"
    }
   ],
   "source": [
    "for item in regions_income:\n",
    "    reg = eval(item)\n",
    "    lower = reg.quantile(0.025)\n",
    "    high = reg.quantile(0.975)\n",
    "    loss_prob = sum(reg<0)/len(reg)\n",
    "    plt.show()\n",
    "    plt.title(item)\n",
    "    plt.xlabel('прибыль, млрд руб')\n",
    "    plt.ylabel('частота')\n",
    "    print(reg.hist(bins = 25, figsize = (9,2.5)))\n",
    "    results.append([reg.mean(), lower, high, loss_prob])"
   ]
  },
  {
   "cell_type": "markdown",
   "metadata": {},
   "source": [
    "Соберем список результатов табличный вид при помощи `DataFrame`."
   ]
  },
  {
   "cell_type": "code",
   "execution_count": 48,
   "metadata": {},
   "outputs": [],
   "source": [
    "results_df = (pd.DataFrame(data = results, \n",
    "            index = ['прибыль-регион 1 (млрд руб.)', \n",
    "                     'прибыль-регион 2 (млрд руб.)', \n",
    "                     'прибыль-регион 3 (млрд руб.)'], \n",
    "            columns = ['cреднее', 'низ 95% дов.инт', 'верх 95% дов.инт','вер-ть убытков']))"
   ]
  },
  {
   "cell_type": "markdown",
   "metadata": {},
   "source": [
    "Отформатируем значения в колонках:"
   ]
  },
  {
   "cell_type": "code",
   "execution_count": 49,
   "metadata": {},
   "outputs": [],
   "source": [
    "for col in results_df.columns[:3]:\n",
    "    results_df[col] = results_df[col].map('{:.2f}'.format)"
   ]
  },
  {
   "cell_type": "code",
   "execution_count": 50,
   "metadata": {},
   "outputs": [],
   "source": [
    "results_df['вер-ть убытков'] = results_df['вер-ть убытков'].map('{:.1%}'.format)"
   ]
  },
  {
   "cell_type": "code",
   "execution_count": 51,
   "metadata": {},
   "outputs": [
    {
     "data": {
      "text/html": [
       "<div>\n",
       "<style scoped>\n",
       "    .dataframe tbody tr th:only-of-type {\n",
       "        vertical-align: middle;\n",
       "    }\n",
       "\n",
       "    .dataframe tbody tr th {\n",
       "        vertical-align: top;\n",
       "    }\n",
       "\n",
       "    .dataframe thead th {\n",
       "        text-align: right;\n",
       "    }\n",
       "</style>\n",
       "<table border=\"1\" class=\"dataframe\">\n",
       "  <thead>\n",
       "    <tr style=\"text-align: right;\">\n",
       "      <th></th>\n",
       "      <th>cреднее</th>\n",
       "      <th>низ 95% дов.инт</th>\n",
       "      <th>верх 95% дов.инт</th>\n",
       "      <th>вер-ть убытков</th>\n",
       "    </tr>\n",
       "  </thead>\n",
       "  <tbody>\n",
       "    <tr>\n",
       "      <th>прибыль-регион 1 (млрд руб.)</th>\n",
       "      <td>0.50</td>\n",
       "      <td>-0.05</td>\n",
       "      <td>1.03</td>\n",
       "      <td>4.0%</td>\n",
       "    </tr>\n",
       "    <tr>\n",
       "      <th>прибыль-регион 2 (млрд руб.)</th>\n",
       "      <td>0.53</td>\n",
       "      <td>0.10</td>\n",
       "      <td>0.95</td>\n",
       "      <td>0.9%</td>\n",
       "    </tr>\n",
       "    <tr>\n",
       "      <th>прибыль-регион 3 (млрд руб.)</th>\n",
       "      <td>0.39</td>\n",
       "      <td>-0.17</td>\n",
       "      <td>0.93</td>\n",
       "      <td>7.7%</td>\n",
       "    </tr>\n",
       "  </tbody>\n",
       "</table>\n",
       "</div>"
      ],
      "text/plain": [
       "                             cреднее низ 95% дов.инт верх 95% дов.инт  \\\n",
       "прибыль-регион 1 (млрд руб.)    0.50           -0.05             1.03   \n",
       "прибыль-регион 2 (млрд руб.)    0.53            0.10             0.95   \n",
       "прибыль-регион 3 (млрд руб.)    0.39           -0.17             0.93   \n",
       "\n",
       "                             вер-ть убытков  \n",
       "прибыль-регион 1 (млрд руб.)           4.0%  \n",
       "прибыль-регион 2 (млрд руб.)           0.9%  \n",
       "прибыль-регион 3 (млрд руб.)           7.7%  "
      ]
     },
     "execution_count": 51,
     "metadata": {},
     "output_type": "execute_result"
    }
   ],
   "source": [
    "results_df"
   ]
  },
  {
   "cell_type": "markdown",
   "metadata": {},
   "source": [
    "### Выводы:\n",
    "\n",
    "Построенные гистограммы соответствуют значениям, представленным в таблице.\n",
    "\n",
    "Как видно из таблицы, наибольшее среднее значение прибыли достигается в `регионе 2`. В нем же весь доверительный интервал находится в положительной зоне прибыли, то есть не содержит убытков, что подтверждается и показателем вероятности убытков - он также самый низкий у `региона 2`.\n",
    "\n",
    "Нам необходимо оставить лишь те регионы, в которых вероятность убытков меньше 2.5% и среди них выбирать регион с наибольшей средней прибылью. Но глядя на такие результаты, можно сказать, что `регион 2` является абсолютным лидером по всем показателям среди трех регионов, а значит регионом, где добыча принесёт наибольшую прибыль следует выбрать `регион 2`."
   ]
  },
  {
   "cell_type": "markdown",
   "metadata": {},
   "source": [
    "## 6. Общий вывод"
   ]
  },
  {
   "cell_type": "markdown",
   "metadata": {},
   "source": [
    "### В ходе работы мы проделали следующие шаги:\n",
    "\n",
    "1. Открыли файл с данными, изучили его, провели предобработку и подготовку\n",
    "2. Обучили и проверили модель для каждого региона<br>\n",
    "3. Подготовились к расчёту прибыли<br>\n",
    "4. Написали функцию для расчёта прибыли по выбранным скважинам и предсказаниям модели<br>\n",
    "5. Посчитали риски и прибыль для каждого региона<br>"
   ]
  },
  {
   "cell_type": "markdown",
   "metadata": {},
   "source": [
    "### На основе проделанной работы сделали выводы:\n",
    "\n",
    "- наилучшим образом модель линейной регрессии настроилась по региону 2, по остальным двум регионам ошибка значительно больше.\n",
    "- безубыточный объем превышает средние показатели по скважинам по регионам. Но эти показатели являются средними и при тщательном подборе самых производительных скважин можно обеспечить прибыль.\n",
    "- наибольшее среднее значение прибыли достигается в `регионе 2`. В нем же весь доверительный интервал находится в положительной зоне прибыли, то есть не содержит убытков, что подтверждается и показателем вероятности убытков - он также самый низкий.\n",
    "- `регион 2` является абсолютным лидером по всем показателям среди трех регионов, а значит регионом, где добыча принесёт наибольшую прибыль следует выбрать `регион 2`."
   ]
  }
 ],
 "metadata": {
  "kernelspec": {
   "display_name": "Python 3",
   "language": "python",
   "name": "python3"
  },
  "language_info": {
   "codemirror_mode": {
    "name": "ipython",
    "version": 3
   },
   "file_extension": ".py",
   "mimetype": "text/x-python",
   "name": "python",
   "nbconvert_exporter": "python",
   "pygments_lexer": "ipython3",
   "version": "3.8.5"
  }
 },
 "nbformat": 4,
 "nbformat_minor": 2
}

{
 "cells": [
  {
   "cell_type": "markdown",
   "metadata": {},
   "source": [
    "# Описание проекта"
   ]
  },
  {
   "cell_type": "markdown",
   "metadata": {},
   "source": [
    "Сервис по продаже автомобилей с пробегом «Не бит, не крашен» разрабатывает приложение для привлечения новых клиентов. В нём можно быстро узнать рыночную стоимость своего автомобиля. В нашем распоряжении исторические данные: технические характеристики, комплектации и цены автомобилей. Нам нужно построить модель для определения стоимости. \n",
    "\n",
    "Заказчику важны:\n",
    "\n",
    "- качество предсказания;\n",
    "- скорость предсказания;\n",
    "- время обучения."
   ]
  },
  {
   "cell_type": "markdown",
   "metadata": {},
   "source": [
    "# Описание данных\n",
    "\n",
    "## Признаки\n",
    "- DateCrawled — дата скачивания анкеты из базы\n",
    "- VehicleType — тип автомобильного кузова\n",
    "- RegistrationYear — год регистрации автомобиля\n",
    "- Gearbox — тип коробки передач\n",
    "- Power — мощность (л. с.)\n",
    "- Model — модель автомобиля\n",
    "- Kilometer — пробег (км)\n",
    "- RegistrationMonth — месяц регистрации автомобиля\n",
    "- FuelType — тип топлива\n",
    "- Brand — марка автомобиля\n",
    "- NotRepaired — была машина в ремонте или нет\n",
    "- DateCreated — дата создания анкеты\n",
    "- NumberOfPictures — количество фотографий автомобиля\n",
    "- PostalCode — почтовый индекс владельца анкеты (пользователя)\n",
    "- LastSeen — дата последней активности пользователя\n",
    "## Целевой признак<br>\n",
    "- Price — цена (евро)"
   ]
  },
  {
   "cell_type": "markdown",
   "metadata": {},
   "source": [
    "# Для выполнения поставленной задачи выполним следующие шаги:\n",
    "1. Загрузим и подготовим данные.\n",
    "2. Обучим разные модели с различными гиперпараметрами.\n",
    "3. Проанализируем скорость работы и качество моделей."
   ]
  },
  {
   "cell_type": "markdown",
   "metadata": {},
   "source": [
    "# 1. Откроем файл с данными, изучим его и проведем предобработку"
   ]
  },
  {
   "cell_type": "markdown",
   "metadata": {},
   "source": [
    "Подключим необходимые библиотеки:"
   ]
  },
  {
   "cell_type": "code",
   "execution_count": 1,
   "metadata": {},
   "outputs": [],
   "source": [
    "import warnings\n",
    "warnings.filterwarnings('ignore')"
   ]
  },
  {
   "cell_type": "code",
   "execution_count": 2,
   "metadata": {},
   "outputs": [],
   "source": [
    "import pandas as pd"
   ]
  },
  {
   "cell_type": "code",
   "execution_count": 3,
   "metadata": {},
   "outputs": [],
   "source": [
    "import numpy as np"
   ]
  },
  {
   "cell_type": "code",
   "execution_count": 4,
   "metadata": {},
   "outputs": [],
   "source": [
    "import time"
   ]
  },
  {
   "cell_type": "code",
   "execution_count": 5,
   "metadata": {},
   "outputs": [],
   "source": [
    "from sklearn.metrics import mean_squared_error\n",
    "from math import sqrt"
   ]
  },
  {
   "cell_type": "code",
   "execution_count": 6,
   "metadata": {},
   "outputs": [],
   "source": [
    "from sklearn.model_selection import GridSearchCV"
   ]
  },
  {
   "cell_type": "code",
   "execution_count": 7,
   "metadata": {},
   "outputs": [],
   "source": [
    "from sklearn.preprocessing import OrdinalEncoder"
   ]
  },
  {
   "cell_type": "code",
   "execution_count": 8,
   "metadata": {},
   "outputs": [],
   "source": [
    "from sklearn.metrics import make_scorer"
   ]
  },
  {
   "cell_type": "code",
   "execution_count": 9,
   "metadata": {},
   "outputs": [],
   "source": [
    "from sklearn.model_selection import train_test_split"
   ]
  },
  {
   "cell_type": "code",
   "execution_count": 10,
   "metadata": {},
   "outputs": [],
   "source": [
    "from lightgbm import LGBMRegressor"
   ]
  },
  {
   "cell_type": "code",
   "execution_count": 11,
   "metadata": {},
   "outputs": [],
   "source": [
    "import xgboost as xgb"
   ]
  },
  {
   "cell_type": "code",
   "execution_count": 12,
   "metadata": {},
   "outputs": [],
   "source": [
    "from catboost import CatBoostRegressor"
   ]
  },
  {
   "cell_type": "markdown",
   "metadata": {},
   "source": [
    "Загрузим данные в таблицу:"
   ]
  },
  {
   "cell_type": "code",
   "execution_count": 13,
   "metadata": {},
   "outputs": [],
   "source": [
    "try:\n",
    "    autos = pd.read_csv('/Users/elenadolgova/Documents/Yandex praktikum/project11/autos.csv')\n",
    "except:\n",
    "    autos = pd.read_csv('https://code.s3.yandex.net/datasets/autos.csv')"
   ]
  },
  {
   "cell_type": "markdown",
   "metadata": {},
   "source": [
    "Взглянем на первые 5 строк таблицы, чтобы посмотреть какие именно данные в ней представлены."
   ]
  },
  {
   "cell_type": "code",
   "execution_count": 14,
   "metadata": {},
   "outputs": [
    {
     "data": {
      "text/html": [
       "<div>\n",
       "<style scoped>\n",
       "    .dataframe tbody tr th:only-of-type {\n",
       "        vertical-align: middle;\n",
       "    }\n",
       "\n",
       "    .dataframe tbody tr th {\n",
       "        vertical-align: top;\n",
       "    }\n",
       "\n",
       "    .dataframe thead th {\n",
       "        text-align: right;\n",
       "    }\n",
       "</style>\n",
       "<table border=\"1\" class=\"dataframe\">\n",
       "  <thead>\n",
       "    <tr style=\"text-align: right;\">\n",
       "      <th></th>\n",
       "      <th>DateCrawled</th>\n",
       "      <th>Price</th>\n",
       "      <th>VehicleType</th>\n",
       "      <th>RegistrationYear</th>\n",
       "      <th>Gearbox</th>\n",
       "      <th>Power</th>\n",
       "      <th>Model</th>\n",
       "      <th>Kilometer</th>\n",
       "      <th>RegistrationMonth</th>\n",
       "      <th>FuelType</th>\n",
       "      <th>Brand</th>\n",
       "      <th>NotRepaired</th>\n",
       "      <th>DateCreated</th>\n",
       "      <th>NumberOfPictures</th>\n",
       "      <th>PostalCode</th>\n",
       "      <th>LastSeen</th>\n",
       "    </tr>\n",
       "  </thead>\n",
       "  <tbody>\n",
       "    <tr>\n",
       "      <th>0</th>\n",
       "      <td>2016-03-24 11:52:17</td>\n",
       "      <td>480</td>\n",
       "      <td>NaN</td>\n",
       "      <td>1993</td>\n",
       "      <td>manual</td>\n",
       "      <td>0</td>\n",
       "      <td>golf</td>\n",
       "      <td>150000</td>\n",
       "      <td>0</td>\n",
       "      <td>petrol</td>\n",
       "      <td>volkswagen</td>\n",
       "      <td>NaN</td>\n",
       "      <td>2016-03-24 00:00:00</td>\n",
       "      <td>0</td>\n",
       "      <td>70435</td>\n",
       "      <td>2016-04-07 03:16:57</td>\n",
       "    </tr>\n",
       "    <tr>\n",
       "      <th>1</th>\n",
       "      <td>2016-03-24 10:58:45</td>\n",
       "      <td>18300</td>\n",
       "      <td>coupe</td>\n",
       "      <td>2011</td>\n",
       "      <td>manual</td>\n",
       "      <td>190</td>\n",
       "      <td>NaN</td>\n",
       "      <td>125000</td>\n",
       "      <td>5</td>\n",
       "      <td>gasoline</td>\n",
       "      <td>audi</td>\n",
       "      <td>yes</td>\n",
       "      <td>2016-03-24 00:00:00</td>\n",
       "      <td>0</td>\n",
       "      <td>66954</td>\n",
       "      <td>2016-04-07 01:46:50</td>\n",
       "    </tr>\n",
       "    <tr>\n",
       "      <th>2</th>\n",
       "      <td>2016-03-14 12:52:21</td>\n",
       "      <td>9800</td>\n",
       "      <td>suv</td>\n",
       "      <td>2004</td>\n",
       "      <td>auto</td>\n",
       "      <td>163</td>\n",
       "      <td>grand</td>\n",
       "      <td>125000</td>\n",
       "      <td>8</td>\n",
       "      <td>gasoline</td>\n",
       "      <td>jeep</td>\n",
       "      <td>NaN</td>\n",
       "      <td>2016-03-14 00:00:00</td>\n",
       "      <td>0</td>\n",
       "      <td>90480</td>\n",
       "      <td>2016-04-05 12:47:46</td>\n",
       "    </tr>\n",
       "    <tr>\n",
       "      <th>3</th>\n",
       "      <td>2016-03-17 16:54:04</td>\n",
       "      <td>1500</td>\n",
       "      <td>small</td>\n",
       "      <td>2001</td>\n",
       "      <td>manual</td>\n",
       "      <td>75</td>\n",
       "      <td>golf</td>\n",
       "      <td>150000</td>\n",
       "      <td>6</td>\n",
       "      <td>petrol</td>\n",
       "      <td>volkswagen</td>\n",
       "      <td>no</td>\n",
       "      <td>2016-03-17 00:00:00</td>\n",
       "      <td>0</td>\n",
       "      <td>91074</td>\n",
       "      <td>2016-03-17 17:40:17</td>\n",
       "    </tr>\n",
       "    <tr>\n",
       "      <th>4</th>\n",
       "      <td>2016-03-31 17:25:20</td>\n",
       "      <td>3600</td>\n",
       "      <td>small</td>\n",
       "      <td>2008</td>\n",
       "      <td>manual</td>\n",
       "      <td>69</td>\n",
       "      <td>fabia</td>\n",
       "      <td>90000</td>\n",
       "      <td>7</td>\n",
       "      <td>gasoline</td>\n",
       "      <td>skoda</td>\n",
       "      <td>no</td>\n",
       "      <td>2016-03-31 00:00:00</td>\n",
       "      <td>0</td>\n",
       "      <td>60437</td>\n",
       "      <td>2016-04-06 10:17:21</td>\n",
       "    </tr>\n",
       "  </tbody>\n",
       "</table>\n",
       "</div>"
      ],
      "text/plain": [
       "           DateCrawled  Price VehicleType  RegistrationYear Gearbox  Power  \\\n",
       "0  2016-03-24 11:52:17    480         NaN              1993  manual      0   \n",
       "1  2016-03-24 10:58:45  18300       coupe              2011  manual    190   \n",
       "2  2016-03-14 12:52:21   9800         suv              2004    auto    163   \n",
       "3  2016-03-17 16:54:04   1500       small              2001  manual     75   \n",
       "4  2016-03-31 17:25:20   3600       small              2008  manual     69   \n",
       "\n",
       "   Model  Kilometer  RegistrationMonth  FuelType       Brand NotRepaired  \\\n",
       "0   golf     150000                  0    petrol  volkswagen         NaN   \n",
       "1    NaN     125000                  5  gasoline        audi         yes   \n",
       "2  grand     125000                  8  gasoline        jeep         NaN   \n",
       "3   golf     150000                  6    petrol  volkswagen          no   \n",
       "4  fabia      90000                  7  gasoline       skoda          no   \n",
       "\n",
       "           DateCreated  NumberOfPictures  PostalCode             LastSeen  \n",
       "0  2016-03-24 00:00:00                 0       70435  2016-04-07 03:16:57  \n",
       "1  2016-03-24 00:00:00                 0       66954  2016-04-07 01:46:50  \n",
       "2  2016-03-14 00:00:00                 0       90480  2016-04-05 12:47:46  \n",
       "3  2016-03-17 00:00:00                 0       91074  2016-03-17 17:40:17  \n",
       "4  2016-03-31 00:00:00                 0       60437  2016-04-06 10:17:21  "
      ]
     },
     "execution_count": 14,
     "metadata": {},
     "output_type": "execute_result"
    }
   ],
   "source": [
    "autos.head()"
   ]
  },
  {
   "cell_type": "markdown",
   "metadata": {},
   "source": [
    "Выведем общую информацию о таблице и посмотрим какие типы данных размещены в таблице:"
   ]
  },
  {
   "cell_type": "code",
   "execution_count": 15,
   "metadata": {},
   "outputs": [
    {
     "name": "stdout",
     "output_type": "stream",
     "text": [
      "<class 'pandas.core.frame.DataFrame'>\n",
      "RangeIndex: 354369 entries, 0 to 354368\n",
      "Data columns (total 16 columns):\n",
      " #   Column             Non-Null Count   Dtype \n",
      "---  ------             --------------   ----- \n",
      " 0   DateCrawled        354369 non-null  object\n",
      " 1   Price              354369 non-null  int64 \n",
      " 2   VehicleType        316879 non-null  object\n",
      " 3   RegistrationYear   354369 non-null  int64 \n",
      " 4   Gearbox            334536 non-null  object\n",
      " 5   Power              354369 non-null  int64 \n",
      " 6   Model              334664 non-null  object\n",
      " 7   Kilometer          354369 non-null  int64 \n",
      " 8   RegistrationMonth  354369 non-null  int64 \n",
      " 9   FuelType           321474 non-null  object\n",
      " 10  Brand              354369 non-null  object\n",
      " 11  NotRepaired        283215 non-null  object\n",
      " 12  DateCreated        354369 non-null  object\n",
      " 13  NumberOfPictures   354369 non-null  int64 \n",
      " 14  PostalCode         354369 non-null  int64 \n",
      " 15  LastSeen           354369 non-null  object\n",
      "dtypes: int64(7), object(9)\n",
      "memory usage: 43.3+ MB\n"
     ]
    }
   ],
   "source": [
    "autos.info()"
   ]
  },
  {
   "cell_type": "markdown",
   "metadata": {},
   "source": [
    "Удалим дубликаты сразу (до обработки), так как пока у нас множество колонок, то дубликатов не должно быть много и их удаление не исказит результаты. Далее мы будем работать с сокращенной таблицей и появление там дубликатов вполне возможно даже после удаления дубликатов на этом шаге, но удалять последующие дубликаты мы уже не будем, так как они вызваны просто удалением лишних колонок."
   ]
  },
  {
   "cell_type": "code",
   "execution_count": 16,
   "metadata": {},
   "outputs": [
    {
     "data": {
      "text/plain": [
       "4"
      ]
     },
     "execution_count": 16,
     "metadata": {},
     "output_type": "execute_result"
    }
   ],
   "source": [
    "autos.duplicated().sum()"
   ]
  },
  {
   "cell_type": "code",
   "execution_count": 17,
   "metadata": {},
   "outputs": [],
   "source": [
    "autos = autos.drop_duplicates()"
   ]
  },
  {
   "cell_type": "markdown",
   "metadata": {},
   "source": [
    "Выделим список колонок, которые будут использованы для построения моделей. Нам понадобятся колонки с признаками и целевым признаком. С целевым признаком все просто - это колонка `Price`."
   ]
  },
  {
   "cell_type": "markdown",
   "metadata": {},
   "source": [
    "Вряд ли в качестве признаков следует рассматривать следующие колонки, так как они не относятся к характеристикам товара, определяющим его стоимость:\n",
    "\n",
    "- `DateCrawled` — дата скачивания анкеты из базы\n",
    "- `RegistrationYear` — год регистрации автомобиля\n",
    "- `RegistrationMonth` — месяц регистрации автомобиля\n",
    "- `DateCreated` — дата создания анкеты\n",
    "- `NumberOfPictures` — количество фотографий автомобиля\n",
    "- `PostalCode` — почтовый индекс владельца анкеты (пользователя)\n",
    "- `LastSeen` — дата последней активности пользователя"
   ]
  },
  {
   "cell_type": "markdown",
   "metadata": {},
   "source": [
    "Сформируем список колонок, с которыми мы будем дальше работать:"
   ]
  },
  {
   "cell_type": "code",
   "execution_count": 18,
   "metadata": {},
   "outputs": [],
   "source": [
    "columns = ['RegistrationYear', 'Gearbox', 'Power', 'Model', \n",
    "           'Kilometer', 'FuelType', 'Brand', 'NotRepaired', 'Price']"
   ]
  },
  {
   "cell_type": "markdown",
   "metadata": {},
   "source": [
    "Создадим новую таблицу исключительно с интересующими нас колонками и посмотрим на типы данных в них:"
   ]
  },
  {
   "cell_type": "code",
   "execution_count": 19,
   "metadata": {},
   "outputs": [],
   "source": [
    "auto = autos[columns]"
   ]
  },
  {
   "cell_type": "code",
   "execution_count": 20,
   "metadata": {},
   "outputs": [
    {
     "name": "stdout",
     "output_type": "stream",
     "text": [
      "<class 'pandas.core.frame.DataFrame'>\n",
      "Int64Index: 354365 entries, 0 to 354368\n",
      "Data columns (total 9 columns):\n",
      " #   Column            Non-Null Count   Dtype \n",
      "---  ------            --------------   ----- \n",
      " 0   RegistrationYear  354365 non-null  int64 \n",
      " 1   Gearbox           334532 non-null  object\n",
      " 2   Power             354365 non-null  int64 \n",
      " 3   Model             334660 non-null  object\n",
      " 4   Kilometer         354365 non-null  int64 \n",
      " 5   FuelType          321470 non-null  object\n",
      " 6   Brand             354365 non-null  object\n",
      " 7   NotRepaired       283211 non-null  object\n",
      " 8   Price             354365 non-null  int64 \n",
      "dtypes: int64(4), object(5)\n",
      "memory usage: 27.0+ MB\n"
     ]
    }
   ],
   "source": [
    "auto.info()"
   ]
  },
  {
   "cell_type": "markdown",
   "metadata": {},
   "source": [
    "Как видно, в некоторых колонках есть пропуски, тип данных соответствует описанию колонок. Обработаем колонки."
   ]
  },
  {
   "cell_type": "markdown",
   "metadata": {},
   "source": [
    "# 1.1  Обработка колонки `Model`"
   ]
  },
  {
   "cell_type": "markdown",
   "metadata": {},
   "source": [
    "Пропущенные значения в колонке `Model` мы заполним на основании данных о мощности `Power` и марке авто `Brand`. Для этого сначала создадим сводную таблицу, где расчитаем медианное значение мощности по марке и модели авто."
   ]
  },
  {
   "cell_type": "code",
   "execution_count": 21,
   "metadata": {},
   "outputs": [],
   "source": [
    "brand_model_power = auto.pivot_table(index = ['Brand', 'Model'], values = 'Power', aggfunc = 'median')"
   ]
  },
  {
   "cell_type": "markdown",
   "metadata": {},
   "source": [
    "Затем напишем функцию, которая для пропущенного значения в колонке `Model` на основании сводной таблицы найдет марку и по мощности выдаст модель."
   ]
  },
  {
   "cell_type": "code",
   "execution_count": 22,
   "metadata": {},
   "outputs": [],
   "source": [
    "def fill_model(row):\n",
    "    try:\n",
    "        if pd.isna(row['Model']):\n",
    "            if row['Power'] > 0:\n",
    "                return brand_model_power[brand_model_power['Power'] == row['Power']].index[0][1]\n",
    "    except:\n",
    "        return row['Model']\n",
    "    return row['Model']"
   ]
  },
  {
   "cell_type": "markdown",
   "metadata": {},
   "source": [
    "Выполним заполнение пропущенных значений."
   ]
  },
  {
   "cell_type": "code",
   "execution_count": 23,
   "metadata": {},
   "outputs": [],
   "source": [
    "auto['Model'] = auto.apply(fill_model, axis = 1)"
   ]
  },
  {
   "cell_type": "markdown",
   "metadata": {},
   "source": [
    "Проверим работу функции."
   ]
  },
  {
   "cell_type": "code",
   "execution_count": 24,
   "metadata": {},
   "outputs": [
    {
     "name": "stdout",
     "output_type": "stream",
     "text": [
      "<class 'pandas.core.frame.DataFrame'>\n",
      "Int64Index: 354365 entries, 0 to 354368\n",
      "Data columns (total 9 columns):\n",
      " #   Column            Non-Null Count   Dtype \n",
      "---  ------            --------------   ----- \n",
      " 0   RegistrationYear  354365 non-null  int64 \n",
      " 1   Gearbox           334532 non-null  object\n",
      " 2   Power             354365 non-null  int64 \n",
      " 3   Model             345153 non-null  object\n",
      " 4   Kilometer         354365 non-null  int64 \n",
      " 5   FuelType          321470 non-null  object\n",
      " 6   Brand             354365 non-null  object\n",
      " 7   NotRepaired       283211 non-null  object\n",
      " 8   Price             354365 non-null  int64 \n",
      "dtypes: int64(4), object(5)\n",
      "memory usage: 27.0+ MB\n"
     ]
    }
   ],
   "source": [
    "auto.info()"
   ]
  },
  {
   "cell_type": "markdown",
   "metadata": {},
   "source": [
    "Как видно еще остались пропущенные значения в колонке `Model`, но их количество невелико по сравнению с общим количеством строк - их можно удалить. Мы обработаем следующие колонки, а затем проведем удаление уже в конце обработки."
   ]
  },
  {
   "cell_type": "markdown",
   "metadata": {},
   "source": [
    "# 1.2 Обработка колонки `NotRepaired`"
   ]
  },
  {
   "cell_type": "markdown",
   "metadata": {},
   "source": [
    "Данная колонка означает была машина в ремонте или нет, поэтому можно предположить, что если значение там пропущено, значит машина в ремонте не было. Поэтому заменим пропущенные значения на `no`."
   ]
  },
  {
   "cell_type": "code",
   "execution_count": 25,
   "metadata": {},
   "outputs": [],
   "source": [
    "auto['NotRepaired'] = auto['NotRepaired'].fillna('no')"
   ]
  },
  {
   "cell_type": "markdown",
   "metadata": {},
   "source": [
    "# 1.3 Обработка колонки `FuelType`"
   ]
  },
  {
   "cell_type": "markdown",
   "metadata": {},
   "source": [
    "Посмотрим на уникальные значения в этой колонке и частоту их появления."
   ]
  },
  {
   "cell_type": "code",
   "execution_count": 26,
   "metadata": {},
   "outputs": [
    {
     "data": {
      "text/plain": [
       "petrol      216349\n",
       "gasoline     98719\n",
       "lpg           5310\n",
       "cng            565\n",
       "hybrid         233\n",
       "other          204\n",
       "electric        90\n",
       "Name: FuelType, dtype: int64"
      ]
     },
     "execution_count": 26,
     "metadata": {},
     "output_type": "execute_result"
    }
   ],
   "source": [
    "auto['FuelType'].value_counts()"
   ]
  },
  {
   "cell_type": "markdown",
   "metadata": {},
   "source": [
    "Как видно, доминируют `petrol` и `gasoline`. Эти два термина означают один и тот же тип двигателя - приведем данные в колонке к одному названию - `petrol`, а поскольку количество пропущенных значений относительно невелико, то не будет сильных искажений, если мы заменим их на самый популярных тип двигателя - `petrol`."
   ]
  },
  {
   "cell_type": "code",
   "execution_count": 27,
   "metadata": {},
   "outputs": [],
   "source": [
    "auto['FuelType'] = auto['FuelType'].fillna('petrol')"
   ]
  },
  {
   "cell_type": "code",
   "execution_count": 28,
   "metadata": {},
   "outputs": [],
   "source": [
    "auto['FuelType'] = auto['FuelType'].replace('gasoline', 'petrol')"
   ]
  },
  {
   "cell_type": "markdown",
   "metadata": {},
   "source": [
    "# 1.4 Обработка колонки `Gearbox`"
   ]
  },
  {
   "cell_type": "markdown",
   "metadata": {},
   "source": [
    "Посмотрим на уникальные значения в этой колонке и частоту их появления."
   ]
  },
  {
   "cell_type": "code",
   "execution_count": 29,
   "metadata": {},
   "outputs": [
    {
     "data": {
      "text/plain": [
       "manual    268249\n",
       "auto       66283\n",
       "Name: Gearbox, dtype: int64"
      ]
     },
     "execution_count": 29,
     "metadata": {},
     "output_type": "execute_result"
    }
   ],
   "source": [
    "auto['Gearbox'].value_counts()"
   ]
  },
  {
   "cell_type": "markdown",
   "metadata": {},
   "source": [
    "Как видно, доминирует ручная коробка - `manual`. Поскольку восстановить по данным из таблицы какая именно коробка у авто невозможно, заменим пропущенные значения на самый популярный вид коробки - `manual`."
   ]
  },
  {
   "cell_type": "code",
   "execution_count": 30,
   "metadata": {},
   "outputs": [],
   "source": [
    "auto['Gearbox'] = auto['Gearbox'].fillna('manual')"
   ]
  },
  {
   "cell_type": "markdown",
   "metadata": {},
   "source": [
    "# 1.5 Удаление пропущенных значений"
   ]
  },
  {
   "cell_type": "markdown",
   "metadata": {},
   "source": [
    "Мы провели обработку пропущенных значений, поэтому оставшиеся пропущенные значения мы просто удалим."
   ]
  },
  {
   "cell_type": "code",
   "execution_count": 31,
   "metadata": {},
   "outputs": [],
   "source": [
    "auto = auto.dropna(subset = columns)"
   ]
  },
  {
   "cell_type": "markdown",
   "metadata": {},
   "source": [
    "Проверим результат обработки:"
   ]
  },
  {
   "cell_type": "code",
   "execution_count": 32,
   "metadata": {},
   "outputs": [
    {
     "name": "stdout",
     "output_type": "stream",
     "text": [
      "<class 'pandas.core.frame.DataFrame'>\n",
      "Int64Index: 345153 entries, 0 to 354368\n",
      "Data columns (total 9 columns):\n",
      " #   Column            Non-Null Count   Dtype \n",
      "---  ------            --------------   ----- \n",
      " 0   RegistrationYear  345153 non-null  int64 \n",
      " 1   Gearbox           345153 non-null  object\n",
      " 2   Power             345153 non-null  int64 \n",
      " 3   Model             345153 non-null  object\n",
      " 4   Kilometer         345153 non-null  int64 \n",
      " 5   FuelType          345153 non-null  object\n",
      " 6   Brand             345153 non-null  object\n",
      " 7   NotRepaired       345153 non-null  object\n",
      " 8   Price             345153 non-null  int64 \n",
      "dtypes: int64(4), object(5)\n",
      "memory usage: 26.3+ MB\n"
     ]
    }
   ],
   "source": [
    "auto.info()"
   ]
  },
  {
   "cell_type": "markdown",
   "metadata": {},
   "source": [
    "Как видно, мы удалили около 9 тыс строк, что немного относительно общего количества строк. Данных для построения моделей у нас по-прежнему достаточно."
   ]
  },
  {
   "cell_type": "markdown",
   "metadata": {},
   "source": [
    "# 1.6 Проверка выпадающих значений в колонках"
   ]
  },
  {
   "cell_type": "markdown",
   "metadata": {},
   "source": [
    "Для колонок, в которых количество уникальных значений меньше 100 выведем уникальные значения в этих колонках, чтобы увидеть выпадающие значения. Отсутствие каких-либо колонок в списке внизу укажет на наличие множества уникальных значений в таких колонках - с ними поработаем отдельно."
   ]
  },
  {
   "cell_type": "code",
   "execution_count": 33,
   "metadata": {},
   "outputs": [
    {
     "name": "stdout",
     "output_type": "stream",
     "text": [
      "Gearbox -> ['manual' 'auto']\n",
      "Kilometer -> [150000 125000  90000  40000  30000  70000   5000 100000  60000  20000\n",
      "  80000  50000  10000]\n",
      "FuelType -> ['petrol' 'lpg' 'other' 'hybrid' 'cng' 'electric']\n",
      "Brand -> ['volkswagen' 'audi' 'jeep' 'skoda' 'bmw' 'peugeot' 'ford' 'mazda'\n",
      " 'nissan' 'renault' 'mercedes_benz' 'opel' 'seat' 'citroen' 'honda' 'fiat'\n",
      " 'mini' 'smart' 'hyundai' 'alfa_romeo' 'subaru' 'volvo' 'mitsubishi' 'kia'\n",
      " 'suzuki' 'lancia' 'toyota' 'chevrolet' 'dacia' 'daihatsu' 'chrysler'\n",
      " 'sonstige_autos' 'jaguar' 'daewoo' 'porsche' 'rover' 'saab' 'trabant'\n",
      " 'land_rover' 'lada']\n",
      "NotRepaired -> ['no' 'yes']\n"
     ]
    }
   ],
   "source": [
    "for col in auto.columns:\n",
    "    if len(auto[col].unique())<100:\n",
    "        print(col, '->', auto[col].unique())"
   ]
  },
  {
   "cell_type": "markdown",
   "metadata": {},
   "source": [
    "Как видно, в большинстве колонок вполне соответствующие их описанию значения."
   ]
  },
  {
   "cell_type": "markdown",
   "metadata": {},
   "source": [
    "# 1.7 Обработка колонки `Power`"
   ]
  },
  {
   "cell_type": "markdown",
   "metadata": {},
   "source": [
    "Посмотрим на диапазон значений в колонке."
   ]
  },
  {
   "cell_type": "code",
   "execution_count": 34,
   "metadata": {},
   "outputs": [
    {
     "data": {
      "text/plain": [
       "count    345153.000000\n",
       "mean        111.346904\n",
       "std         182.492799\n",
       "min           0.000000\n",
       "25%          71.000000\n",
       "50%         105.000000\n",
       "75%         143.000000\n",
       "max       20000.000000\n",
       "Name: Power, dtype: float64"
      ]
     },
     "execution_count": 34,
     "metadata": {},
     "output_type": "execute_result"
    }
   ],
   "source": [
    "auto['Power'].describe()"
   ]
  },
  {
   "cell_type": "markdown",
   "metadata": {},
   "source": [
    "Как видно, есть нулевые и нереальные 20000 лошадиных сил. Это маловероятно, поэтому исправим такие выбросы. Создадим сводную таблицу где по модели авто посчитаем медианное значение года выпуска `RegistrationYear` (пригодится нам дальше) и мощности `Power`."
   ]
  },
  {
   "cell_type": "code",
   "execution_count": 35,
   "metadata": {},
   "outputs": [],
   "source": [
    "models = auto.pivot_table(index = 'Model', values = ['RegistrationYear', 'Power'], aggfunc = 'median')"
   ]
  },
  {
   "cell_type": "code",
   "execution_count": 36,
   "metadata": {},
   "outputs": [],
   "source": [
    "models = models.to_dict()"
   ]
  },
  {
   "cell_type": "markdown",
   "metadata": {},
   "source": [
    "Напишем функцию которая обрежет экстремальные значения и поставит вместо них медианное значение мощности по соответствующей модели авто."
   ]
  },
  {
   "cell_type": "code",
   "execution_count": 37,
   "metadata": {},
   "outputs": [],
   "source": [
    "def fill_power(row):\n",
    "    try:\n",
    "        if (row['Power'] > 400) or (row['Power'] < 75):\n",
    "            return models['Power'][row['Model']]\n",
    "        return row['Power']\n",
    "    except:\n",
    "        return row['Power']"
   ]
  },
  {
   "cell_type": "markdown",
   "metadata": {},
   "source": [
    "Произведем замену при помощи функции:"
   ]
  },
  {
   "cell_type": "code",
   "execution_count": 38,
   "metadata": {},
   "outputs": [],
   "source": [
    "auto['Power'] = auto.apply(fill_power, axis = 1)"
   ]
  },
  {
   "cell_type": "markdown",
   "metadata": {},
   "source": [
    "Посмотрим какие теперь значения в колонке `Power`."
   ]
  },
  {
   "cell_type": "code",
   "execution_count": 39,
   "metadata": {},
   "outputs": [
    {
     "data": {
      "text/plain": [
       "count    345153.000000\n",
       "mean        119.558983\n",
       "std          49.792767\n",
       "min           0.000000\n",
       "25%          82.000000\n",
       "50%         109.000000\n",
       "75%         143.000000\n",
       "max         400.000000\n",
       "Name: Power, dtype: float64"
      ]
     },
     "execution_count": 39,
     "metadata": {},
     "output_type": "execute_result"
    }
   ],
   "source": [
    "auto['Power'].describe()"
   ]
  },
  {
   "cell_type": "markdown",
   "metadata": {},
   "source": [
    "Как видно, нулевые значения по-прежнему есть. Посмотрим что это за строки."
   ]
  },
  {
   "cell_type": "code",
   "execution_count": 40,
   "metadata": {},
   "outputs": [
    {
     "data": {
      "text/html": [
       "<div>\n",
       "<style scoped>\n",
       "    .dataframe tbody tr th:only-of-type {\n",
       "        vertical-align: middle;\n",
       "    }\n",
       "\n",
       "    .dataframe tbody tr th {\n",
       "        vertical-align: top;\n",
       "    }\n",
       "\n",
       "    .dataframe thead th {\n",
       "        text-align: right;\n",
       "    }\n",
       "</style>\n",
       "<table border=\"1\" class=\"dataframe\">\n",
       "  <thead>\n",
       "    <tr style=\"text-align: right;\">\n",
       "      <th></th>\n",
       "      <th>RegistrationYear</th>\n",
       "      <th>Gearbox</th>\n",
       "      <th>Power</th>\n",
       "      <th>Model</th>\n",
       "      <th>Kilometer</th>\n",
       "      <th>FuelType</th>\n",
       "      <th>Brand</th>\n",
       "      <th>NotRepaired</th>\n",
       "      <th>Price</th>\n",
       "    </tr>\n",
       "  </thead>\n",
       "  <tbody>\n",
       "    <tr>\n",
       "      <th>3338</th>\n",
       "      <td>1995</td>\n",
       "      <td>manual</td>\n",
       "      <td>0.0</td>\n",
       "      <td>samara</td>\n",
       "      <td>100000</td>\n",
       "      <td>petrol</td>\n",
       "      <td>lada</td>\n",
       "      <td>no</td>\n",
       "      <td>199</td>\n",
       "    </tr>\n",
       "    <tr>\n",
       "      <th>26625</th>\n",
       "      <td>2016</td>\n",
       "      <td>manual</td>\n",
       "      <td>0.0</td>\n",
       "      <td>samara</td>\n",
       "      <td>150000</td>\n",
       "      <td>petrol</td>\n",
       "      <td>lada</td>\n",
       "      <td>no</td>\n",
       "      <td>200</td>\n",
       "    </tr>\n",
       "    <tr>\n",
       "      <th>42665</th>\n",
       "      <td>1997</td>\n",
       "      <td>manual</td>\n",
       "      <td>0.0</td>\n",
       "      <td>samara</td>\n",
       "      <td>50000</td>\n",
       "      <td>petrol</td>\n",
       "      <td>lada</td>\n",
       "      <td>yes</td>\n",
       "      <td>300</td>\n",
       "    </tr>\n",
       "    <tr>\n",
       "      <th>45401</th>\n",
       "      <td>2007</td>\n",
       "      <td>manual</td>\n",
       "      <td>0.0</td>\n",
       "      <td>samara</td>\n",
       "      <td>125000</td>\n",
       "      <td>petrol</td>\n",
       "      <td>lada</td>\n",
       "      <td>no</td>\n",
       "      <td>0</td>\n",
       "    </tr>\n",
       "    <tr>\n",
       "      <th>69358</th>\n",
       "      <td>1995</td>\n",
       "      <td>manual</td>\n",
       "      <td>0.0</td>\n",
       "      <td>samara</td>\n",
       "      <td>125000</td>\n",
       "      <td>petrol</td>\n",
       "      <td>lada</td>\n",
       "      <td>no</td>\n",
       "      <td>99</td>\n",
       "    </tr>\n",
       "    <tr>\n",
       "      <th>73120</th>\n",
       "      <td>1991</td>\n",
       "      <td>manual</td>\n",
       "      <td>0.0</td>\n",
       "      <td>samara</td>\n",
       "      <td>70000</td>\n",
       "      <td>petrol</td>\n",
       "      <td>lada</td>\n",
       "      <td>no</td>\n",
       "      <td>2199</td>\n",
       "    </tr>\n",
       "    <tr>\n",
       "      <th>75177</th>\n",
       "      <td>1985</td>\n",
       "      <td>manual</td>\n",
       "      <td>0.0</td>\n",
       "      <td>samara</td>\n",
       "      <td>125000</td>\n",
       "      <td>petrol</td>\n",
       "      <td>lada</td>\n",
       "      <td>no</td>\n",
       "      <td>249</td>\n",
       "    </tr>\n",
       "    <tr>\n",
       "      <th>100568</th>\n",
       "      <td>1997</td>\n",
       "      <td>manual</td>\n",
       "      <td>0.0</td>\n",
       "      <td>samara</td>\n",
       "      <td>125000</td>\n",
       "      <td>petrol</td>\n",
       "      <td>lada</td>\n",
       "      <td>no</td>\n",
       "      <td>250</td>\n",
       "    </tr>\n",
       "    <tr>\n",
       "      <th>150050</th>\n",
       "      <td>2007</td>\n",
       "      <td>manual</td>\n",
       "      <td>0.0</td>\n",
       "      <td>samara</td>\n",
       "      <td>125000</td>\n",
       "      <td>petrol</td>\n",
       "      <td>lada</td>\n",
       "      <td>no</td>\n",
       "      <td>650</td>\n",
       "    </tr>\n",
       "    <tr>\n",
       "      <th>201433</th>\n",
       "      <td>1999</td>\n",
       "      <td>manual</td>\n",
       "      <td>0.0</td>\n",
       "      <td>samara</td>\n",
       "      <td>125000</td>\n",
       "      <td>lpg</td>\n",
       "      <td>lada</td>\n",
       "      <td>no</td>\n",
       "      <td>1499</td>\n",
       "    </tr>\n",
       "    <tr>\n",
       "      <th>234296</th>\n",
       "      <td>1978</td>\n",
       "      <td>manual</td>\n",
       "      <td>0.0</td>\n",
       "      <td>serie_1</td>\n",
       "      <td>30000</td>\n",
       "      <td>petrol</td>\n",
       "      <td>land_rover</td>\n",
       "      <td>no</td>\n",
       "      <td>3800</td>\n",
       "    </tr>\n",
       "    <tr>\n",
       "      <th>280216</th>\n",
       "      <td>1970</td>\n",
       "      <td>manual</td>\n",
       "      <td>0.0</td>\n",
       "      <td>serie_1</td>\n",
       "      <td>100000</td>\n",
       "      <td>petrol</td>\n",
       "      <td>land_rover</td>\n",
       "      <td>no</td>\n",
       "      <td>0</td>\n",
       "    </tr>\n",
       "    <tr>\n",
       "      <th>323167</th>\n",
       "      <td>1990</td>\n",
       "      <td>manual</td>\n",
       "      <td>0.0</td>\n",
       "      <td>samara</td>\n",
       "      <td>70000</td>\n",
       "      <td>petrol</td>\n",
       "      <td>lada</td>\n",
       "      <td>no</td>\n",
       "      <td>600</td>\n",
       "    </tr>\n",
       "    <tr>\n",
       "      <th>353555</th>\n",
       "      <td>2016</td>\n",
       "      <td>manual</td>\n",
       "      <td>0.0</td>\n",
       "      <td>samara</td>\n",
       "      <td>70000</td>\n",
       "      <td>petrol</td>\n",
       "      <td>lada</td>\n",
       "      <td>no</td>\n",
       "      <td>2199</td>\n",
       "    </tr>\n",
       "  </tbody>\n",
       "</table>\n",
       "</div>"
      ],
      "text/plain": [
       "        RegistrationYear Gearbox  Power    Model  Kilometer FuelType  \\\n",
       "3338                1995  manual    0.0   samara     100000   petrol   \n",
       "26625               2016  manual    0.0   samara     150000   petrol   \n",
       "42665               1997  manual    0.0   samara      50000   petrol   \n",
       "45401               2007  manual    0.0   samara     125000   petrol   \n",
       "69358               1995  manual    0.0   samara     125000   petrol   \n",
       "73120               1991  manual    0.0   samara      70000   petrol   \n",
       "75177               1985  manual    0.0   samara     125000   petrol   \n",
       "100568              1997  manual    0.0   samara     125000   petrol   \n",
       "150050              2007  manual    0.0   samara     125000   petrol   \n",
       "201433              1999  manual    0.0   samara     125000      lpg   \n",
       "234296              1978  manual    0.0  serie_1      30000   petrol   \n",
       "280216              1970  manual    0.0  serie_1     100000   petrol   \n",
       "323167              1990  manual    0.0   samara      70000   petrol   \n",
       "353555              2016  manual    0.0   samara      70000   petrol   \n",
       "\n",
       "             Brand NotRepaired  Price  \n",
       "3338          lada          no    199  \n",
       "26625         lada          no    200  \n",
       "42665         lada         yes    300  \n",
       "45401         lada          no      0  \n",
       "69358         lada          no     99  \n",
       "73120         lada          no   2199  \n",
       "75177         lada          no    249  \n",
       "100568        lada          no    250  \n",
       "150050        lada          no    650  \n",
       "201433        lada          no   1499  \n",
       "234296  land_rover          no   3800  \n",
       "280216  land_rover          no      0  \n",
       "323167        lada          no    600  \n",
       "353555        lada          no   2199  "
      ]
     },
     "execution_count": 40,
     "metadata": {},
     "output_type": "execute_result"
    }
   ],
   "source": [
    "auto[auto['Power'] == 0]"
   ]
  },
  {
   "cell_type": "markdown",
   "metadata": {},
   "source": [
    "Строк совсем немного и большинство из них относится к одной модели - `samara`. Обычно у этого автомобиля лошадиные силы в районе 80, поэтому произведем замену нуля на 80."
   ]
  },
  {
   "cell_type": "code",
   "execution_count": 41,
   "metadata": {},
   "outputs": [],
   "source": [
    "auto['Power'] = auto['Power'].replace(0, 80)"
   ]
  },
  {
   "cell_type": "markdown",
   "metadata": {},
   "source": [
    "Проверим как осуществилась замена."
   ]
  },
  {
   "cell_type": "code",
   "execution_count": 42,
   "metadata": {},
   "outputs": [
    {
     "data": {
      "text/plain": [
       "count    345153.000000\n",
       "mean        119.562227\n",
       "std          49.787581\n",
       "min          26.000000\n",
       "25%          82.000000\n",
       "50%         109.000000\n",
       "75%         143.000000\n",
       "max         400.000000\n",
       "Name: Power, dtype: float64"
      ]
     },
     "execution_count": 42,
     "metadata": {},
     "output_type": "execute_result"
    }
   ],
   "source": [
    "auto['Power'].describe()"
   ]
  },
  {
   "cell_type": "markdown",
   "metadata": {},
   "source": [
    "Нулевых значений больше нет, замена осуществлена."
   ]
  },
  {
   "cell_type": "markdown",
   "metadata": {},
   "source": [
    "# 1.8 Обработка колонки `RegistrationYear`"
   ]
  },
  {
   "cell_type": "markdown",
   "metadata": {},
   "source": [
    "Посмотрим на уникальные значения в колонке `RegistrationYear` предварительно отсортировав их по возрастанию для удобства."
   ]
  },
  {
   "cell_type": "code",
   "execution_count": 43,
   "metadata": {},
   "outputs": [],
   "source": [
    "years = auto['RegistrationYear'].unique()"
   ]
  },
  {
   "cell_type": "code",
   "execution_count": 44,
   "metadata": {},
   "outputs": [],
   "source": [
    "years.sort()"
   ]
  },
  {
   "cell_type": "code",
   "execution_count": 45,
   "metadata": {},
   "outputs": [
    {
     "data": {
      "text/plain": [
       "array([1000, 1001, 1111, 1200, 1234, 1300, 1400, 1500, 1600, 1602, 1800,\n",
       "       1910, 1919, 1923, 1927, 1928, 1929, 1930, 1931, 1932, 1933, 1934,\n",
       "       1935, 1936, 1937, 1938, 1941, 1942, 1943, 1945, 1947, 1949, 1950,\n",
       "       1951, 1952, 1953, 1954, 1955, 1956, 1957, 1958, 1959, 1960, 1961,\n",
       "       1962, 1963, 1964, 1965, 1966, 1967, 1968, 1969, 1970, 1971, 1972,\n",
       "       1973, 1974, 1975, 1976, 1977, 1978, 1979, 1980, 1981, 1982, 1983,\n",
       "       1984, 1985, 1986, 1987, 1988, 1989, 1990, 1991, 1992, 1993, 1994,\n",
       "       1995, 1996, 1997, 1998, 1999, 2000, 2001, 2002, 2003, 2004, 2005,\n",
       "       2006, 2007, 2008, 2009, 2010, 2011, 2012, 2013, 2014, 2015, 2016,\n",
       "       2017, 2018, 2019, 2066, 2200, 2290, 2500, 2900, 3000, 3500, 3700,\n",
       "       4000, 4500, 5000, 5555, 5900, 5911, 6000, 6500, 7000, 7100, 7500,\n",
       "       7800, 8000, 8200, 8500, 9000, 9999])"
      ]
     },
     "execution_count": 45,
     "metadata": {},
     "output_type": "execute_result"
    }
   ],
   "source": [
    "years"
   ]
  },
  {
   "cell_type": "markdown",
   "metadata": {},
   "source": [
    "Как видно, есть года, которые явно выпадают из списка ожидаемых. Посмотрим на популярный диапазон - не старше 1960 года, но не моложе 2019, так как данных за 2020 год нет в таблице."
   ]
  },
  {
   "cell_type": "code",
   "execution_count": 46,
   "metadata": {},
   "outputs": [
    {
     "data": {
      "text/plain": [
       "328"
      ]
     },
     "execution_count": 46,
     "metadata": {},
     "output_type": "execute_result"
    }
   ],
   "source": [
    "len(auto[(auto['RegistrationYear'] > 2019) | (auto['RegistrationYear'] < 1960)])"
   ]
  },
  {
   "cell_type": "markdown",
   "metadata": {},
   "source": [
    "Количество строк вне популярного диапазона невелико - заполним их медианным значением года выпуска по модели авто. Для это создадим сводную таблицу и посчитаем в ней медианное значение года выпуска `RegistrationYear` для каждой модели авто. Такой подход не внесет сильных искажений. Сама сводная таблица уже построена нами в предыдущем пункте и имеет название `models`."
   ]
  },
  {
   "cell_type": "markdown",
   "metadata": {},
   "source": [
    "Напишем функцию, которая для значений вне популярного диапазона заменит года на медианное значение года выпуска по модели авто."
   ]
  },
  {
   "cell_type": "code",
   "execution_count": 47,
   "metadata": {},
   "outputs": [],
   "source": [
    "def fill_year(row):\n",
    "    if (row['RegistrationYear'] > 2019) or (row['RegistrationYear'] < 1960):\n",
    "        return models['RegistrationYear'][row['Model']]\n",
    "    return row['RegistrationYear']"
   ]
  },
  {
   "cell_type": "markdown",
   "metadata": {},
   "source": [
    "Произведем замену значений при помощи функции."
   ]
  },
  {
   "cell_type": "code",
   "execution_count": 48,
   "metadata": {},
   "outputs": [],
   "source": [
    "auto['RegistrationYear'] = auto.apply(fill_year, axis = 1)"
   ]
  },
  {
   "cell_type": "markdown",
   "metadata": {},
   "source": [
    "Посмотрим как выглядит таблица после исправлений:"
   ]
  },
  {
   "cell_type": "code",
   "execution_count": 49,
   "metadata": {},
   "outputs": [
    {
     "name": "stdout",
     "output_type": "stream",
     "text": [
      "<class 'pandas.core.frame.DataFrame'>\n",
      "Int64Index: 345153 entries, 0 to 354368\n",
      "Data columns (total 9 columns):\n",
      " #   Column            Non-Null Count   Dtype  \n",
      "---  ------            --------------   -----  \n",
      " 0   RegistrationYear  345153 non-null  float64\n",
      " 1   Gearbox           345153 non-null  object \n",
      " 2   Power             345153 non-null  float64\n",
      " 3   Model             345153 non-null  object \n",
      " 4   Kilometer         345153 non-null  int64  \n",
      " 5   FuelType          345153 non-null  object \n",
      " 6   Brand             345153 non-null  object \n",
      " 7   NotRepaired       345153 non-null  object \n",
      " 8   Price             345153 non-null  int64  \n",
      "dtypes: float64(2), int64(2), object(5)\n",
      "memory usage: 26.3+ MB\n"
     ]
    }
   ],
   "source": [
    "auto.info()"
   ]
  },
  {
   "cell_type": "markdown",
   "metadata": {},
   "source": [
    "## Вывод:\n",
    "\n",
    "Пропущенных значений не содержится, а типы данных соответствуют их описанию."
   ]
  },
  {
   "cell_type": "markdown",
   "metadata": {},
   "source": [
    "# 2. Обучение моделей"
   ]
  },
  {
   "cell_type": "markdown",
   "metadata": {},
   "source": [
    "Далее мы будем использовать модели для бустинга - LGBMRegressor, XGBoost и CatBoost. Для каждой модели у нас будет один набор гиперпараметров с небольшим диапазоном значений - это позволит модели подобрать лучшие гиперпараметры, а нам сравнить время на обучение и итоговую точность моделей."
   ]
  },
  {
   "cell_type": "markdown",
   "metadata": {},
   "source": [
    "# 2.1 Построение модели при помощи LGBMRegressor"
   ]
  },
  {
   "cell_type": "markdown",
   "metadata": {},
   "source": [
    "Для работы с LGBMRegressor требуется указать какие именно колонки в таблице являются категориальными, то есть описательными, а не численными. Кроме того, формат данных в такой колонке должен иметь тип `category`. Соберем колонки с категориальными данными в отдельный список и для каждого элемента этого списка произведем смену типа данных на `category`."
   ]
  },
  {
   "cell_type": "code",
   "execution_count": 50,
   "metadata": {},
   "outputs": [],
   "source": [
    "cat_features = ['Gearbox', 'Model', 'FuelType', 'Brand', 'NotRepaired']"
   ]
  },
  {
   "cell_type": "code",
   "execution_count": 51,
   "metadata": {},
   "outputs": [],
   "source": [
    "for item in cat_features:\n",
    "    auto[item] = auto[item].astype('category')"
   ]
  },
  {
   "cell_type": "markdown",
   "metadata": {},
   "source": [
    "Выделим признаки в отдельный список и разобъем данные таблицы `auto` на обучающую и тестовую выборки. Тестовую мы будем использовать, чтобы посчитать оценить метрику. В качестве метрики мы выберем `RMSE`. Чем меньше будет значение `RMSE`, тем лучше модель предсказывает стоимость авто."
   ]
  },
  {
   "cell_type": "code",
   "execution_count": 52,
   "metadata": {},
   "outputs": [],
   "source": [
    "features = ['RegistrationYear', 'Gearbox', 'Power', 'Model', 'Kilometer', 'FuelType', 'Brand', 'NotRepaired']"
   ]
  },
  {
   "cell_type": "code",
   "execution_count": 53,
   "metadata": {},
   "outputs": [],
   "source": [
    "features_train, features_test, target_train, target_test = (train_test_split(\n",
    "    auto[features], auto['Price'], test_size = 0.25, random_state = 123))"
   ]
  },
  {
   "cell_type": "markdown",
   "metadata": {},
   "source": [
    "Создадим объект модели."
   ]
  },
  {
   "cell_type": "code",
   "execution_count": 54,
   "metadata": {},
   "outputs": [],
   "source": [
    "estimator = LGBMRegressor(random_state=123)"
   ]
  },
  {
   "cell_type": "markdown",
   "metadata": {},
   "source": [
    "Мы уже знакомы с некоторыми параметрами, которые могут сильно повлиять на результат обучения. Это \n",
    "- максимальная глубина дерева - `max_depth`\n",
    "- скорость обучения - `learning_rate`\n",
    "- количество деревьев в ансамбле - `n_estimators`\n",
    "\n",
    "Для них установим диапазон и шаг в следующем словаре:"
   ]
  },
  {
   "cell_type": "code",
   "execution_count": 55,
   "metadata": {},
   "outputs": [],
   "source": [
    "param_grid = {'max_depth': range(10, 20, 5), \n",
    "          'learning_rate': np.arange(0, 0.5, 0.25), \n",
    "          'n_estimators': range(250, 400, 50)}"
   ]
  },
  {
   "cell_type": "markdown",
   "metadata": {},
   "source": [
    "Создадим метрику для использования в `GridSearchCV`."
   ]
  },
  {
   "cell_type": "code",
   "execution_count": 56,
   "metadata": {},
   "outputs": [],
   "source": [
    "mse_scorer = make_scorer(mean_squared_error, greater_is_better=False)"
   ]
  },
  {
   "cell_type": "code",
   "execution_count": 57,
   "metadata": {},
   "outputs": [],
   "source": [
    "gbm = GridSearchCV(estimator, param_grid, cv=3, scoring = mse_scorer)"
   ]
  },
  {
   "cell_type": "code",
   "execution_count": 58,
   "metadata": {},
   "outputs": [],
   "source": [
    "g_start = time.time()\n",
    "gbm.fit(features_train, target_train)\n",
    "g_end = time.time()\n",
    "gbm_time = g_end - g_start"
   ]
  },
  {
   "cell_type": "markdown",
   "metadata": {},
   "source": [
    "Посмотрим при каких параметрах достигнуто лучшее значение метрики `RMSE`"
   ]
  },
  {
   "cell_type": "code",
   "execution_count": 59,
   "metadata": {},
   "outputs": [
    {
     "data": {
      "text/plain": [
       "{'learning_rate': 0.25, 'max_depth': 15, 'n_estimators': 350}"
      ]
     },
     "execution_count": 59,
     "metadata": {},
     "output_type": "execute_result"
    }
   ],
   "source": [
    "gbm.best_params_"
   ]
  },
  {
   "cell_type": "markdown",
   "metadata": {},
   "source": [
    "Посчитаем значение `RMSE` на тестовой выборке:"
   ]
  },
  {
   "cell_type": "code",
   "execution_count": 60,
   "metadata": {},
   "outputs": [],
   "source": [
    "gbm_rmse = int(sqrt(mean_squared_error(target_test, gbm.predict(features_test))))"
   ]
  },
  {
   "cell_type": "code",
   "execution_count": 61,
   "metadata": {},
   "outputs": [
    {
     "data": {
      "text/plain": [
       "1794"
      ]
     },
     "execution_count": 61,
     "metadata": {},
     "output_type": "execute_result"
    }
   ],
   "source": [
    "gbm_rmse"
   ]
  },
  {
   "cell_type": "markdown",
   "metadata": {},
   "source": [
    "Значения времени исполнения кода на подбор параметров и значение `RMSE` на тестовой выборке мы сохранили в переменных, чтобы затем свести их в таблицу и сравнить модели между собой."
   ]
  },
  {
   "cell_type": "markdown",
   "metadata": {},
   "source": [
    "# 2.2 Построение модели при помощи XGBoost"
   ]
  },
  {
   "cell_type": "markdown",
   "metadata": {},
   "source": [
    "Для XGBoost требуется кодировать категориальные колонки. Сделаем это при помощи порядкового кодирования - так будет меньше колонок."
   ]
  },
  {
   "cell_type": "code",
   "execution_count": 62,
   "metadata": {},
   "outputs": [],
   "source": [
    "encoder = OrdinalEncoder()"
   ]
  },
  {
   "cell_type": "code",
   "execution_count": 63,
   "metadata": {},
   "outputs": [],
   "source": [
    "cat_features_ordinal = encoder.fit_transform(features_train[cat_features])"
   ]
  },
  {
   "cell_type": "markdown",
   "metadata": {},
   "source": [
    "Обернем новые трансформированные колонки в `DataFrame`"
   ]
  },
  {
   "cell_type": "code",
   "execution_count": 64,
   "metadata": {},
   "outputs": [],
   "source": [
    "cat_features_ordinal = pd.DataFrame(data = cat_features_ordinal, columns = cat_features)"
   ]
  },
  {
   "cell_type": "markdown",
   "metadata": {},
   "source": [
    "Удалим старые колонки с категориальными данными"
   ]
  },
  {
   "cell_type": "code",
   "execution_count": 65,
   "metadata": {},
   "outputs": [],
   "source": [
    "one = features_train.drop(cat_features, axis = 1).reset_index(drop = True)"
   ]
  },
  {
   "cell_type": "markdown",
   "metadata": {},
   "source": [
    "Создадим отдельную таблицу по аналогии с `features_train`, но уже с кодированными колонками - для этого объединим исходную таблицу без кодированных колонок и кодированные колонки."
   ]
  },
  {
   "cell_type": "code",
   "execution_count": 66,
   "metadata": {},
   "outputs": [],
   "source": [
    "features_train_ordinal = one.merge(cat_features_ordinal, left_index=True, right_index=True)"
   ]
  },
  {
   "cell_type": "markdown",
   "metadata": {},
   "source": [
    "Будем использовать `GridSearchCV` как и в предыдущем пункте"
   ]
  },
  {
   "cell_type": "code",
   "execution_count": 67,
   "metadata": {},
   "outputs": [],
   "source": [
    "regressor = xgb.XGBRegressor(random_state = 123)"
   ]
  },
  {
   "cell_type": "code",
   "execution_count": 68,
   "metadata": {},
   "outputs": [],
   "source": [
    "xgb = GridSearchCV(regressor, param_grid, cv=3, scoring = mse_scorer)"
   ]
  },
  {
   "cell_type": "markdown",
   "metadata": {},
   "source": [
    "Для расчета `RMSE` на тестовой выборке нам потребуется также закодировать категориальные колонки."
   ]
  },
  {
   "cell_type": "code",
   "execution_count": 69,
   "metadata": {},
   "outputs": [],
   "source": [
    "features_test_ordinal = encoder.fit_transform(features_test[cat_features])"
   ]
  },
  {
   "cell_type": "code",
   "execution_count": 70,
   "metadata": {},
   "outputs": [],
   "source": [
    "features_test_ordinal = pd.DataFrame(data = features_test_ordinal, columns = cat_features)"
   ]
  },
  {
   "cell_type": "code",
   "execution_count": 71,
   "metadata": {},
   "outputs": [],
   "source": [
    "two = features_test.drop(cat_features, axis = 1).reset_index(drop = True)"
   ]
  },
  {
   "cell_type": "code",
   "execution_count": 72,
   "metadata": {},
   "outputs": [],
   "source": [
    "features_test_ordinal = two.merge(features_test_ordinal, left_index=True, right_index=True)"
   ]
  },
  {
   "cell_type": "code",
   "execution_count": 73,
   "metadata": {},
   "outputs": [],
   "source": [
    "x_start = time.time()\n",
    "xgb.fit(features_train_ordinal, target_train)\n",
    "x_end = time.time()\n",
    "xgb_time = x_end - x_start"
   ]
  },
  {
   "cell_type": "markdown",
   "metadata": {},
   "source": [
    "Посмотрим при каких параметрах достигнуто лучшее значение метрики `RMSE`"
   ]
  },
  {
   "cell_type": "code",
   "execution_count": 74,
   "metadata": {},
   "outputs": [
    {
     "data": {
      "text/plain": [
       "{'learning_rate': 0.25, 'max_depth': 10, 'n_estimators': 250}"
      ]
     },
     "execution_count": 74,
     "metadata": {},
     "output_type": "execute_result"
    }
   ],
   "source": [
    "xgb.best_params_"
   ]
  },
  {
   "cell_type": "markdown",
   "metadata": {},
   "source": [
    "Посчитаем значение `RMSE` на тестовой выборке:"
   ]
  },
  {
   "cell_type": "code",
   "execution_count": 75,
   "metadata": {},
   "outputs": [],
   "source": [
    "xgb_rmse = int(sqrt(mean_squared_error(target_test, xgb.predict(features_test_ordinal))))"
   ]
  },
  {
   "cell_type": "markdown",
   "metadata": {},
   "source": [
    "Посмотрим на время работы бустинга в минутах"
   ]
  },
  {
   "cell_type": "code",
   "execution_count": 76,
   "metadata": {},
   "outputs": [
    {
     "data": {
      "text/plain": [
       "25"
      ]
     },
     "execution_count": 76,
     "metadata": {},
     "output_type": "execute_result"
    }
   ],
   "source": [
    "int(xgb_time/60)"
   ]
  },
  {
   "cell_type": "markdown",
   "metadata": {},
   "source": [
    "# 2.3 Построение модели при помощи CatBoost"
   ]
  },
  {
   "cell_type": "markdown",
   "metadata": {},
   "source": [
    "Для CatBoost не требуется производить никакого кодирования признаков, поэтому сразу приступим к построению модели."
   ]
  },
  {
   "cell_type": "code",
   "execution_count": 77,
   "metadata": {},
   "outputs": [],
   "source": [
    "catregressor = CatBoostRegressor(cat_features=cat_features, random_state = 123)"
   ]
  },
  {
   "cell_type": "code",
   "execution_count": 78,
   "metadata": {},
   "outputs": [],
   "source": [
    "catbst = GridSearchCV(catregressor, param_grid, cv=3, scoring = mse_scorer)"
   ]
  },
  {
   "cell_type": "code",
   "execution_count": 79,
   "metadata": {},
   "outputs": [],
   "source": [
    "c_start = time.time()\n",
    "catbst.fit(features_train, target_train, verbose = 0)\n",
    "c_end = time.time()\n",
    "cb_time = c_end - c_start"
   ]
  },
  {
   "cell_type": "markdown",
   "metadata": {},
   "source": [
    "Посмотрим при каких параметрах достигнуто лучшее значение метрики `RMSE`"
   ]
  },
  {
   "cell_type": "code",
   "execution_count": 80,
   "metadata": {},
   "outputs": [
    {
     "data": {
      "text/plain": [
       "{'learning_rate': 0.25, 'max_depth': 15, 'n_estimators': 250}"
      ]
     },
     "execution_count": 80,
     "metadata": {},
     "output_type": "execute_result"
    }
   ],
   "source": [
    "catbst.best_params_"
   ]
  },
  {
   "cell_type": "markdown",
   "metadata": {},
   "source": [
    "Посчитаем значение `RMSE` на тестовой выборке:"
   ]
  },
  {
   "cell_type": "code",
   "execution_count": 81,
   "metadata": {},
   "outputs": [],
   "source": [
    "cb_rmse = int(sqrt(mean_squared_error(target_test, catbst.predict(features_test))))"
   ]
  },
  {
   "cell_type": "code",
   "execution_count": 82,
   "metadata": {},
   "outputs": [
    {
     "data": {
      "text/plain": [
       "1802"
      ]
     },
     "execution_count": 82,
     "metadata": {},
     "output_type": "execute_result"
    }
   ],
   "source": [
    "cb_rmse"
   ]
  },
  {
   "cell_type": "markdown",
   "metadata": {},
   "source": [
    "Посмотрим на время работы бустинга в минутах"
   ]
  },
  {
   "cell_type": "code",
   "execution_count": 83,
   "metadata": {},
   "outputs": [
    {
     "data": {
      "text/plain": [
       "36"
      ]
     },
     "execution_count": 83,
     "metadata": {},
     "output_type": "execute_result"
    }
   ],
   "source": [
    "int(cb_time/60)"
   ]
  },
  {
   "cell_type": "markdown",
   "metadata": {},
   "source": [
    "# 2.4 Построение константной модели"
   ]
  },
  {
   "cell_type": "markdown",
   "metadata": {},
   "source": [
    "Для проверки адекватности всех моделей построим константную модель, которая просто предсказывает среднее значение стоимости авто -  `Price`."
   ]
  },
  {
   "cell_type": "markdown",
   "metadata": {},
   "source": [
    "Построим вектор предсказаний по среднему из обучающей выборки и длиною, равной тестовой выборке."
   ]
  },
  {
   "cell_type": "code",
   "execution_count": 84,
   "metadata": {},
   "outputs": [],
   "source": [
    "mean_pred = np.tile(target_train.mean(), len(target_test))"
   ]
  },
  {
   "cell_type": "markdown",
   "metadata": {},
   "source": [
    "Посчитаем `RMSE` для тестовой выборки для константной модели."
   ]
  },
  {
   "cell_type": "code",
   "execution_count": 85,
   "metadata": {},
   "outputs": [],
   "source": [
    "random_rmse = int(sqrt(mean_squared_error(target_test, mean_pred)))"
   ]
  },
  {
   "cell_type": "code",
   "execution_count": 86,
   "metadata": {},
   "outputs": [
    {
     "data": {
      "text/plain": [
       "4509"
      ]
     },
     "execution_count": 86,
     "metadata": {},
     "output_type": "execute_result"
    }
   ],
   "source": [
    "random_rmse"
   ]
  },
  {
   "cell_type": "markdown",
   "metadata": {},
   "source": [
    "Анализ результатов `RMSE` по всем моделям и время расчета проведем на следующем шаге."
   ]
  },
  {
   "cell_type": "markdown",
   "metadata": {},
   "source": [
    "# 3. Анализ моделей"
   ]
  },
  {
   "cell_type": "markdown",
   "metadata": {},
   "source": [
    "Для удобства соберем результаты моделей в таблицу:"
   ]
  },
  {
   "cell_type": "code",
   "execution_count": 88,
   "metadata": {},
   "outputs": [],
   "source": [
    "score = pd.DataFrame({ 'Модель': ['LightGBM', 'XGBoost', 'CatBoost', 'Среднее'],\n",
    "                      'RMSE': [gbm_rmse, xgb_rmse, cb_rmse, random_rmse],\n",
    "                      'Время в мин': [int(gbm_time/60), int(xgb_time/60), int(cb_time/60), 0]\n",
    "    \n",
    "})"
   ]
  },
  {
   "cell_type": "markdown",
   "metadata": {},
   "source": [
    "Посмотрим на результаты:"
   ]
  },
  {
   "cell_type": "code",
   "execution_count": 89,
   "metadata": {},
   "outputs": [
    {
     "data": {
      "text/html": [
       "<div>\n",
       "<style scoped>\n",
       "    .dataframe tbody tr th:only-of-type {\n",
       "        vertical-align: middle;\n",
       "    }\n",
       "\n",
       "    .dataframe tbody tr th {\n",
       "        vertical-align: top;\n",
       "    }\n",
       "\n",
       "    .dataframe thead th {\n",
       "        text-align: right;\n",
       "    }\n",
       "</style>\n",
       "<table border=\"1\" class=\"dataframe\">\n",
       "  <thead>\n",
       "    <tr style=\"text-align: right;\">\n",
       "      <th></th>\n",
       "      <th>Модель</th>\n",
       "      <th>RMSE</th>\n",
       "      <th>Время в мин</th>\n",
       "    </tr>\n",
       "  </thead>\n",
       "  <tbody>\n",
       "    <tr>\n",
       "      <th>0</th>\n",
       "      <td>LightGBM</td>\n",
       "      <td>1794</td>\n",
       "      <td>0</td>\n",
       "    </tr>\n",
       "    <tr>\n",
       "      <th>1</th>\n",
       "      <td>XGBoost</td>\n",
       "      <td>1860</td>\n",
       "      <td>25</td>\n",
       "    </tr>\n",
       "    <tr>\n",
       "      <th>2</th>\n",
       "      <td>CatBoost</td>\n",
       "      <td>1802</td>\n",
       "      <td>36</td>\n",
       "    </tr>\n",
       "    <tr>\n",
       "      <th>3</th>\n",
       "      <td>Среднее</td>\n",
       "      <td>4509</td>\n",
       "      <td>0</td>\n",
       "    </tr>\n",
       "  </tbody>\n",
       "</table>\n",
       "</div>"
      ],
      "text/plain": [
       "     Модель  RMSE  Время в мин\n",
       "0  LightGBM  1794            0\n",
       "1   XGBoost  1860           25\n",
       "2  CatBoost  1802           36\n",
       "3   Среднее  4509            0"
      ]
     },
     "execution_count": 89,
     "metadata": {},
     "output_type": "execute_result"
    }
   ],
   "source": [
    "score"
   ]
  },
  {
   "cell_type": "markdown",
   "metadata": {},
   "source": [
    "Как видно, наиболее точные результаты у `LightGBM` и у него же самое короткое время расчета. По времени исполнения с ним сравнится только константная модель, но у такой модели ошибка будет больше в 2 раза. Из дополнительного времени на бустинг надо учесть подготовку данных для `LightGBM`, но она не слишком затруднительна - достаточно указать тип колонки `category`.\n",
    "\n",
    "Примерно одинаковую точность показывают `XGBoost` и `CatBoost`, но время расчетов `CatBoost` в полтора раза больше, чем у `XGBoost`. Однако для `XGBoost` нужно отдельно кодировать категориальные колонки и делать это два раза - для обучающей и тестовой выборки отдельно, чтобы избежать утечки целевого признака. `CatBoost` не требует обработки, зато требует терпения ждать пока он все посчитает.\n",
    "\n",
    "Учитывая эти данные можно составить рейтинг моделей:<br>Первое место - `LightGBM` - за свою точность, скорость и неприхотливость в обработке категориальных колонок<br>Второе место - `XGBoost` - за свою скорость<br>Третье место - `CatBoost` - за свою нерасторопность<br>Четвертое место - константная модель - за свою неточность"
   ]
  },
  {
   "cell_type": "markdown",
   "metadata": {},
   "source": [
    "## Вывод:\n",
    "\n",
    "Наиболее оптимальным алгоритмом бустинга по показателям точности и скорости следует выбрать `LightGBM`."
   ]
  },
  {
   "cell_type": "markdown",
   "metadata": {},
   "source": [
    "## В ходе работы мы проделали следующие шаги:\n",
    "\n",
    "1. Загрузили и подготовили данные.\n",
    "2. Обучили разные модели с различными гиперпараметрами.\n",
    "3. Проанализировали скорость работы и качество моделей."
   ]
  },
  {
   "cell_type": "markdown",
   "metadata": {},
   "source": [
    "## На основе проделанной работы сделали выводы:\n",
    "\n",
    "1. Наиболее точные результаты у `LightGBM` и у него же самое короткое время расчета. По времени исполнения с ним сравнится только константная модель, но у такой модели ошибка будет больше в 2 раза. Из дополнительного времени на бустинг надо учесть подготовку данных для `LightGBM`, но она не слишком затруднительна - достаточно указать тип колонки `category`.\n",
    "\n",
    "2. Примерно одинаковую точность показывают `XGBoost` и `CatBoost`, но время расчетов `CatBoost` в полтора раза больше, чем у `XGBoost`. Однако для `XGBoost` нужно отдельно кодировать категориальные колонки и делать это два раза - для обучающей и тестовой выборки отдельно, чтобы избежать утечки целевого признака. `CatBoost` не требует обработки, зато требует терпения ждать пока он все посчитает.\n",
    "\n",
    "3. Наиболее оптимальным алгоритмом бустинга для определения стоимости авто по показателям точности и скорости следует выбрать `LightGBM` за свою точность, скорость и неприхотливость в обработке категориальных колонок."
   ]
  }
 ],
 "metadata": {
  "kernelspec": {
   "display_name": "Python 3",
   "language": "python",
   "name": "python3"
  },
  "language_info": {
   "codemirror_mode": {
    "name": "ipython",
    "version": 3
   },
   "file_extension": ".py",
   "mimetype": "text/x-python",
   "name": "python",
   "nbconvert_exporter": "python",
   "pygments_lexer": "ipython3",
   "version": "3.8.5"
  }
 },
 "nbformat": 4,
 "nbformat_minor": 2
}
